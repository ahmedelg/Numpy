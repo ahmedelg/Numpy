{
 "cells": [
  {
   "cell_type": "markdown",
   "id": "a282523a-186b-4c64-838d-c111b3233d4c",
   "metadata": {
    "tags": []
   },
   "source": [
    "# Numpy basics"
   ]
  },
  {
   "cell_type": "code",
   "execution_count": 23,
   "id": "07aa8d7a-631a-4aaa-b203-8276b67f5cd8",
   "metadata": {},
   "outputs": [],
   "source": [
    "import numpy as np"
   ]
  },
  {
   "cell_type": "markdown",
   "id": "4063c4e9-02df-4d96-95e6-4d4cf6a89aa1",
   "metadata": {
    "tags": []
   },
   "source": [
    "# Create an array as a []"
   ]
  },
  {
   "cell_type": "code",
   "execution_count": 13,
   "id": "7567232e-e3d9-4fc8-b0af-8cfe22558fad",
   "metadata": {},
   "outputs": [],
   "source": [
    "arr=np.array([1,2,3])"
   ]
  },
  {
   "cell_type": "code",
   "execution_count": 14,
   "id": "f4e0704c-248e-4cc4-b653-0b66a3a070ae",
   "metadata": {},
   "outputs": [
    {
     "data": {
      "text/plain": [
       "array([1, 2, 3])"
      ]
     },
     "execution_count": 14,
     "metadata": {},
     "output_type": "execute_result"
    }
   ],
   "source": [
    "arr"
   ]
  },
  {
   "cell_type": "markdown",
   "id": "8233c994-45e4-4e64-a5aa-78b277b90c7a",
   "metadata": {},
   "source": [
    "# numpy version"
   ]
  },
  {
   "cell_type": "code",
   "execution_count": 15,
   "id": "d966ca5f-d710-4ddf-a182-011d352b3c0f",
   "metadata": {},
   "outputs": [
    {
     "data": {
      "text/plain": [
       "'1.21.5'"
      ]
     },
     "execution_count": 15,
     "metadata": {},
     "output_type": "execute_result"
    }
   ],
   "source": [
    "np.__version__"
   ]
  },
  {
   "cell_type": "code",
   "execution_count": null,
   "id": "242a966c-ea66-4a62-80bf-67d5fbed0f7f",
   "metadata": {},
   "outputs": [
    {
     "data": {
      "text/plain": [
       "numpy.ndarray"
      ]
     },
     "execution_count": 17,
     "metadata": {},
     "output_type": "execute_result"
    }
   ],
   "source": [
    "type(arr)"
   ]
  },
  {
   "cell_type": "markdown",
   "id": "76fad704-8027-426f-b9c4-2db8dd407762",
   "metadata": {},
   "source": [
    "# Create array as a ()"
   ]
  },
  {
   "cell_type": "code",
   "execution_count": 18,
   "id": "f3d675ee-dcef-498c-9301-6aea93a185b0",
   "metadata": {},
   "outputs": [],
   "source": [
    "arr=np.array((1,2,3))"
   ]
  },
  {
   "cell_type": "code",
   "execution_count": 20,
   "id": "77de301a-2074-4bb0-88fb-fc38dfeb524d",
   "metadata": {},
   "outputs": [
    {
     "data": {
      "text/plain": [
       "array([1, 2, 3])"
      ]
     },
     "execution_count": 20,
     "metadata": {},
     "output_type": "execute_result"
    }
   ],
   "source": [
    "arr"
   ]
  },
  {
   "cell_type": "markdown",
   "id": "1fc50da6-a097-40e4-94bb-1a0f91d2edc0",
   "metadata": {},
   "source": [
    "# 0-D Array"
   ]
  },
  {
   "cell_type": "code",
   "execution_count": 25,
   "id": "52ced35e-e9dd-4562-91ed-e1a622163c03",
   "metadata": {},
   "outputs": [],
   "source": [
    "a=np.array(34)"
   ]
  },
  {
   "cell_type": "code",
   "execution_count": 26,
   "id": "6dbe932c-da13-4fa2-af62-5fb3e29cd71a",
   "metadata": {},
   "outputs": [
    {
     "data": {
      "text/plain": [
       "array(34)"
      ]
     },
     "execution_count": 26,
     "metadata": {},
     "output_type": "execute_result"
    }
   ],
   "source": [
    "a"
   ]
  },
  {
   "cell_type": "markdown",
   "id": "1a677f31-2d0d-49ae-91ff-b63c13e0a141",
   "metadata": {},
   "source": [
    "# 2-D Array"
   ]
  },
  {
   "cell_type": "code",
   "execution_count": 32,
   "id": "1d101e4a-3a5c-42eb-8f5b-19ff7d1b9a2b",
   "metadata": {},
   "outputs": [],
   "source": [
    "\n",
    " arr1 = np.array([[1, 2, 3], [4, 5, 6]])\n"
   ]
  },
  {
   "cell_type": "code",
   "execution_count": 33,
   "id": "bb016399-a087-4e8c-ad7a-1981997cf84b",
   "metadata": {},
   "outputs": [
    {
     "data": {
      "text/plain": [
       "array([[1, 2, 3],\n",
       "       [4, 5, 6]])"
      ]
     },
     "execution_count": 33,
     "metadata": {},
     "output_type": "execute_result"
    }
   ],
   "source": [
    "arr1"
   ]
  },
  {
   "cell_type": "markdown",
   "id": "3c91adbe-63b3-4300-8e1e-c0da849252eb",
   "metadata": {},
   "source": [
    "# 3-D array"
   ]
  },
  {
   "cell_type": "code",
   "execution_count": 35,
   "id": "9c08a3a8-bc28-4747-b415-ba38f02ccf01",
   "metadata": {},
   "outputs": [],
   "source": [
    "arr2=np.array([[[1,2,3],[2,5,9]],[[1,2,3],[2,5,9]]])\n",
    "# arr = np.array([[[1, 2, 3], [4, 5, 6]], [[1, 2, 3], [4, 5, 6]]])\n"
   ]
  },
  {
   "cell_type": "code",
   "execution_count": 36,
   "id": "153d35d8-cde9-4048-b06f-d15da6e4ed9e",
   "metadata": {},
   "outputs": [
    {
     "data": {
      "text/plain": [
       "array([[[1, 2, 3],\n",
       "        [2, 5, 9]],\n",
       "\n",
       "       [[1, 2, 3],\n",
       "        [2, 5, 9]]])"
      ]
     },
     "execution_count": 36,
     "metadata": {},
     "output_type": "execute_result"
    }
   ],
   "source": [
    "arr2"
   ]
  },
  {
   "cell_type": "markdown",
   "id": "fd726ab7-0835-4729-8087-ab38560a66b8",
   "metadata": {},
   "source": [
    "# Number of dimensions"
   ]
  },
  {
   "cell_type": "code",
   "execution_count": 38,
   "id": "9b4566e9-075e-442e-b428-52e925b62243",
   "metadata": {},
   "outputs": [
    {
     "data": {
      "text/plain": [
       "3"
      ]
     },
     "execution_count": 38,
     "metadata": {},
     "output_type": "execute_result"
    }
   ],
   "source": [
    "arr2.ndim"
   ]
  },
  {
   "cell_type": "code",
   "execution_count": 41,
   "id": "e41fb8fb-38b8-4da5-9549-2e614b2f2b1e",
   "metadata": {},
   "outputs": [
    {
     "data": {
      "text/plain": [
       "2"
      ]
     },
     "execution_count": 41,
     "metadata": {},
     "output_type": "execute_result"
    }
   ],
   "source": [
    "arr1.ndim"
   ]
  },
  {
   "cell_type": "code",
   "execution_count": 42,
   "id": "639cd49e-a85c-48a2-826f-0b873b08404a",
   "metadata": {},
   "outputs": [
    {
     "data": {
      "text/plain": [
       "1"
      ]
     },
     "execution_count": 42,
     "metadata": {},
     "output_type": "execute_result"
    }
   ],
   "source": [
    "arr.ndim"
   ]
  },
  {
   "cell_type": "markdown",
   "id": "954e7d83-74d1-4564-ab4e-e4bc018abcdf",
   "metadata": {},
   "source": [
    "\" array may have any number dimensions \""
   ]
  },
  {
   "cell_type": "markdown",
   "id": "713864f1-8c74-4b81-ba9a-81a9fe701a24",
   "metadata": {},
   "source": [
    "# define ndim"
   ]
  },
  {
   "cell_type": "code",
   "execution_count": 44,
   "id": "637878f3-5e9c-4946-a2c6-439a2eb98c9f",
   "metadata": {},
   "outputs": [],
   "source": [
    "arr3=np.array([1,5], ndmin=5) # ndmin not ndim"
   ]
  },
  {
   "cell_type": "code",
   "execution_count": 45,
   "id": "dfb9a32d-59fc-4110-9f8b-9ad93bf69551",
   "metadata": {},
   "outputs": [
    {
     "data": {
      "text/plain": [
       "5"
      ]
     },
     "execution_count": 45,
     "metadata": {},
     "output_type": "execute_result"
    }
   ],
   "source": [
    "arr3.ndim"
   ]
  },
  {
   "cell_type": "markdown",
   "id": "6316ff94-8317-43e0-be95-5da05bac80a3",
   "metadata": {},
   "source": [
    "# Access Array Elements"
   ]
  },
  {
   "cell_type": "code",
   "execution_count": 47,
   "id": "55dad920-5a6c-452f-be4f-8eccae3fc7e1",
   "metadata": {},
   "outputs": [
    {
     "data": {
      "text/plain": [
       "array([[[[1, 5]]]])"
      ]
     },
     "execution_count": 47,
     "metadata": {},
     "output_type": "execute_result"
    }
   ],
   "source": [
    "arr3[0]"
   ]
  },
  {
   "cell_type": "code",
   "execution_count": 48,
   "id": "a910e183-29de-480d-90ff-478d02c68155",
   "metadata": {},
   "outputs": [
    {
     "data": {
      "text/plain": [
       "2"
      ]
     },
     "execution_count": 48,
     "metadata": {},
     "output_type": "execute_result"
    }
   ],
   "source": [
    "arr1.ndim"
   ]
  },
  {
   "cell_type": "code",
   "execution_count": 49,
   "id": "cadff9ef-6b67-4c15-ad53-15bd80883bfe",
   "metadata": {},
   "outputs": [
    {
     "data": {
      "text/plain": [
       "array([1, 2, 3])"
      ]
     },
     "execution_count": 49,
     "metadata": {},
     "output_type": "execute_result"
    }
   ],
   "source": [
    "arr1[0]"
   ]
  },
  {
   "cell_type": "code",
   "execution_count": 53,
   "id": "615c0d04-f34c-42bf-91df-76f87b738afb",
   "metadata": {},
   "outputs": [
    {
     "data": {
      "text/plain": [
       "array([4, 5, 6])"
      ]
     },
     "execution_count": 53,
     "metadata": {},
     "output_type": "execute_result"
    }
   ],
   "source": [
    "arr1[1]"
   ]
  },
  {
   "cell_type": "code",
   "execution_count": 54,
   "id": "e79b10c4-fb83-47a1-ae99-0b7649526e16",
   "metadata": {},
   "outputs": [
    {
     "data": {
      "text/plain": [
       "2"
      ]
     },
     "execution_count": 54,
     "metadata": {},
     "output_type": "execute_result"
    }
   ],
   "source": [
    "len(arr1)"
   ]
  },
  {
   "cell_type": "code",
   "execution_count": 55,
   "id": "512db2a4-f51a-4329-a7a9-7816106bc48b",
   "metadata": {},
   "outputs": [
    {
     "data": {
      "text/plain": [
       "2"
      ]
     },
     "execution_count": 55,
     "metadata": {},
     "output_type": "execute_result"
    }
   ],
   "source": [
    "arr1[0][1]"
   ]
  },
  {
   "cell_type": "code",
   "execution_count": 56,
   "id": "2451056f-d973-4b06-8698-16caf38e4d8b",
   "metadata": {},
   "outputs": [
    {
     "data": {
      "text/plain": [
       "1"
      ]
     },
     "execution_count": 56,
     "metadata": {},
     "output_type": "execute_result"
    }
   ],
   "source": [
    "arr1[0][0]"
   ]
  },
  {
   "cell_type": "code",
   "execution_count": 57,
   "id": "6d41d0c6-0c79-4b2d-bcc5-decd267104f9",
   "metadata": {},
   "outputs": [
    {
     "data": {
      "text/plain": [
       "2"
      ]
     },
     "execution_count": 57,
     "metadata": {},
     "output_type": "execute_result"
    }
   ],
   "source": [
    "arr1[0,1]"
   ]
  },
  {
   "cell_type": "code",
   "execution_count": 58,
   "id": "5944740c-461a-4598-a527-d31cf256b155",
   "metadata": {},
   "outputs": [
    {
     "data": {
      "text/plain": [
       "3"
      ]
     },
     "execution_count": 58,
     "metadata": {},
     "output_type": "execute_result"
    }
   ],
   "source": [
    "arr1[0,2]"
   ]
  },
  {
   "cell_type": "code",
   "execution_count": 59,
   "id": "785752ef-edfa-4eb6-88f6-197d4397098c",
   "metadata": {},
   "outputs": [
    {
     "data": {
      "text/plain": [
       "3"
      ]
     },
     "execution_count": 59,
     "metadata": {},
     "output_type": "execute_result"
    }
   ],
   "source": [
    "arr2.ndim"
   ]
  },
  {
   "cell_type": "code",
   "execution_count": 60,
   "id": "b897eb01-0b42-492c-833d-cfeb4bca50c8",
   "metadata": {},
   "outputs": [
    {
     "data": {
      "text/plain": [
       "1"
      ]
     },
     "execution_count": 60,
     "metadata": {},
     "output_type": "execute_result"
    }
   ],
   "source": [
    "arr2[0,0,0]"
   ]
  },
  {
   "cell_type": "markdown",
   "id": "5ee29237-5b29-4da3-850b-a6fa1c6129e7",
   "metadata": {},
   "source": [
    "# Negative Indexing\n",
    "# access array from the end"
   ]
  },
  {
   "cell_type": "code",
   "execution_count": 61,
   "id": "ac1166d1-ca10-4a1a-be3f-62f1acda1aa2",
   "metadata": {},
   "outputs": [
    {
     "data": {
      "text/plain": [
       "array([1, 2, 3])"
      ]
     },
     "execution_count": 61,
     "metadata": {},
     "output_type": "execute_result"
    }
   ],
   "source": [
    "arr"
   ]
  },
  {
   "cell_type": "code",
   "execution_count": 62,
   "id": "05f1b7f0-2f4f-4052-8994-7c688ba668f7",
   "metadata": {},
   "outputs": [
    {
     "data": {
      "text/plain": [
       "2"
      ]
     },
     "execution_count": 62,
     "metadata": {},
     "output_type": "execute_result"
    }
   ],
   "source": [
    "arr[-2]"
   ]
  },
  {
   "cell_type": "code",
   "execution_count": 63,
   "id": "e76ecad7-08af-4788-9f31-0ef08eb49194",
   "metadata": {},
   "outputs": [
    {
     "data": {
      "text/plain": [
       "3"
      ]
     },
     "execution_count": 63,
     "metadata": {},
     "output_type": "execute_result"
    }
   ],
   "source": [
    "arr[-1]"
   ]
  },
  {
   "cell_type": "markdown",
   "id": "fdfa404b-d93e-4d30-b24c-afb4aca37fdb",
   "metadata": {
    "jp-MarkdownHeadingCollapsed": true,
    "tags": []
   },
   "source": [
    "# Slicing 1D Array"
   ]
  },
  {
   "cell_type": "code",
   "execution_count": 65,
   "id": "43651f53-2165-457d-8398-39d9453603f5",
   "metadata": {},
   "outputs": [
    {
     "data": {
      "text/plain": [
       "array([1, 2])"
      ]
     },
     "execution_count": 65,
     "metadata": {},
     "output_type": "execute_result"
    }
   ],
   "source": [
    "arr[0:2] # start index:0 end index: 2-1=1"
   ]
  },
  {
   "cell_type": "code",
   "execution_count": 66,
   "id": "6ea38aee-1da7-46cd-bbc1-fa06c815f8f5",
   "metadata": {},
   "outputs": [
    {
     "data": {
      "text/plain": [
       "array([3])"
      ]
     },
     "execution_count": 66,
     "metadata": {},
     "output_type": "execute_result"
    }
   ],
   "source": [
    "arr[2:] # Starts from index:2 to end index"
   ]
  },
  {
   "cell_type": "code",
   "execution_count": 67,
   "id": "e54a25a8-c0d9-4d95-a1b2-0e7efc976b2a",
   "metadata": {},
   "outputs": [
    {
     "data": {
      "text/plain": [
       "array([2, 3])"
      ]
     },
     "execution_count": 67,
     "metadata": {},
     "output_type": "execute_result"
    }
   ],
   "source": [
    "arr[1:]"
   ]
  },
  {
   "cell_type": "code",
   "execution_count": 68,
   "id": "0fa93e58-c334-4f5b-8f58-868a9d1c772f",
   "metadata": {},
   "outputs": [
    {
     "data": {
      "text/plain": [
       "array([1, 2])"
      ]
     },
     "execution_count": 68,
     "metadata": {},
     "output_type": "execute_result"
    }
   ],
   "source": [
    "arr[:2] # starts from index:0 to index 2-1=1"
   ]
  },
  {
   "cell_type": "code",
   "execution_count": 69,
   "id": "6d590ec8-e5a3-44fb-900f-8d6b2c8339ce",
   "metadata": {},
   "outputs": [
    {
     "data": {
      "text/plain": [
       "array([1, 3])"
      ]
     },
     "execution_count": 69,
     "metadata": {},
     "output_type": "execute_result"
    }
   ],
   "source": [
    "arr[::2] # بيفوت رقم واحد ففط"
   ]
  },
  {
   "cell_type": "code",
   "execution_count": 73,
   "id": "e665f62a-72f3-4a9e-8309-922340fb8487",
   "metadata": {},
   "outputs": [
    {
     "data": {
      "text/plain": [
       "array([1, 2, 3])"
      ]
     },
     "execution_count": 73,
     "metadata": {},
     "output_type": "execute_result"
    }
   ],
   "source": [
    "arr[::1] # 1 - 1 = 0 then takes all elements"
   ]
  },
  {
   "cell_type": "code",
   "execution_count": 74,
   "id": "27ad61ba-83bc-478c-8b02-916bf8144fe2",
   "metadata": {},
   "outputs": [
    {
     "data": {
      "text/plain": [
       "array([1, 2, 3])"
      ]
     },
     "execution_count": 74,
     "metadata": {},
     "output_type": "execute_result"
    }
   ],
   "source": [
    "arr[:]"
   ]
  },
  {
   "cell_type": "code",
   "execution_count": 75,
   "id": "8a42fb14-dfc8-4743-9c56-42f1939ea715",
   "metadata": {},
   "outputs": [
    {
     "data": {
      "text/plain": [
       "array([2, 3])"
      ]
     },
     "execution_count": 75,
     "metadata": {},
     "output_type": "execute_result"
    }
   ],
   "source": [
    "arr[1:3:1]"
   ]
  },
  {
   "cell_type": "code",
   "execution_count": 76,
   "id": "6519c49d-8cf4-45f8-83b9-eacf2fe008f3",
   "metadata": {},
   "outputs": [
    {
     "data": {
      "text/plain": [
       "array([1, 2, 3])"
      ]
     },
     "execution_count": 76,
     "metadata": {},
     "output_type": "execute_result"
    }
   ],
   "source": [
    "arr[0:3:1]"
   ]
  },
  {
   "cell_type": "code",
   "execution_count": 77,
   "id": "9f5aca47-379d-484e-aa3c-6e274891f305",
   "metadata": {},
   "outputs": [
    {
     "data": {
      "text/plain": [
       "array([2])"
      ]
     },
     "execution_count": 77,
     "metadata": {},
     "output_type": "execute_result"
    }
   ],
   "source": [
    "arr[1:3:2]"
   ]
  },
  {
   "cell_type": "code",
   "execution_count": 79,
   "id": "46c7b263-305b-4289-a5d8-319e0da02586",
   "metadata": {},
   "outputs": [
    {
     "data": {
      "text/plain": [
       "array([1, 3])"
      ]
     },
     "execution_count": 79,
     "metadata": {},
     "output_type": "execute_result"
    }
   ],
   "source": [
    "arr[0:3:2]"
   ]
  },
  {
   "cell_type": "markdown",
   "id": "d7b94526-49f4-42d4-b966-6d91843f4be8",
   "metadata": {
    "tags": []
   },
   "source": [
    "# Slicing 2D array"
   ]
  },
  {
   "cell_type": "code",
   "execution_count": 80,
   "id": "2204ae6f-6256-4381-993f-203473c1c14e",
   "metadata": {},
   "outputs": [
    {
     "data": {
      "text/plain": [
       "array([[1, 2, 3],\n",
       "       [4, 5, 6]])"
      ]
     },
     "execution_count": 80,
     "metadata": {},
     "output_type": "execute_result"
    }
   ],
   "source": [
    "arr1"
   ]
  },
  {
   "cell_type": "code",
   "execution_count": 83,
   "id": "ae9dc195-4893-45c8-85c3-b1963a28c1f1",
   "metadata": {},
   "outputs": [
    {
     "data": {
      "text/plain": [
       "array([4, 5])"
      ]
     },
     "execution_count": 83,
     "metadata": {},
     "output_type": "execute_result"
    }
   ],
   "source": [
    "arr1[1, :2]"
   ]
  },
  {
   "cell_type": "code",
   "execution_count": 84,
   "id": "03edbe05-c7b2-45dd-832c-58c9910d4cb8",
   "metadata": {},
   "outputs": [
    {
     "data": {
      "text/plain": [
       "array([4, 5, 6])"
      ]
     },
     "execution_count": 84,
     "metadata": {},
     "output_type": "execute_result"
    }
   ],
   "source": [
    "arr1[1, :3]"
   ]
  },
  {
   "cell_type": "code",
   "execution_count": 85,
   "id": "80a66f8b-26d1-4c46-9209-173084828b1d",
   "metadata": {},
   "outputs": [
    {
     "data": {
      "text/plain": [
       "array([5, 6])"
      ]
     },
     "execution_count": 85,
     "metadata": {},
     "output_type": "execute_result"
    }
   ],
   "source": [
    "arr1[1, 1:3]"
   ]
  },
  {
   "cell_type": "code",
   "execution_count": 86,
   "id": "ed731dff-ac5f-48c5-a54e-f6c4fdfaa2e7",
   "metadata": {},
   "outputs": [
    {
     "data": {
      "text/plain": [
       "array([1, 2, 3])"
      ]
     },
     "execution_count": 86,
     "metadata": {},
     "output_type": "execute_result"
    }
   ],
   "source": [
    "arr1[0, :3]"
   ]
  },
  {
   "cell_type": "code",
   "execution_count": 87,
   "id": "e9f320e0-286e-498c-a7f9-f09a6e466369",
   "metadata": {},
   "outputs": [
    {
     "data": {
      "text/plain": [
       "array([1, 2])"
      ]
     },
     "execution_count": 87,
     "metadata": {},
     "output_type": "execute_result"
    }
   ],
   "source": [
    "arr1[0, :2]"
   ]
  },
  {
   "cell_type": "markdown",
   "id": "b1ff5abf-95bd-4df2-8ad0-d761ab4af6e5",
   "metadata": {},
   "source": [
    "# Make a copy of array"
   ]
  },
  {
   "cell_type": "code",
   "execution_count": 88,
   "id": "5dc6bee1-76f7-4973-98a1-c486e254f5f7",
   "metadata": {},
   "outputs": [
    {
     "data": {
      "text/plain": [
       "array([1, 2, 3])"
      ]
     },
     "execution_count": 88,
     "metadata": {},
     "output_type": "execute_result"
    }
   ],
   "source": [
    "arr"
   ]
  },
  {
   "cell_type": "code",
   "execution_count": 89,
   "id": "3bfec63f-9521-4479-a143-7af5f0cfb092",
   "metadata": {},
   "outputs": [],
   "source": [
    "x=arr.copy()"
   ]
  },
  {
   "cell_type": "code",
   "execution_count": 90,
   "id": "f9771a63-6ee7-44f9-910c-f7e3e973390b",
   "metadata": {},
   "outputs": [
    {
     "data": {
      "text/plain": [
       "array([1, 2, 3])"
      ]
     },
     "execution_count": 90,
     "metadata": {},
     "output_type": "execute_result"
    }
   ],
   "source": [
    "x"
   ]
  },
  {
   "cell_type": "code",
   "execution_count": 91,
   "id": "9d0fe9f8-6e7b-45f7-8303-6794a2748ae1",
   "metadata": {},
   "outputs": [],
   "source": [
    "arr[0]=8\n"
   ]
  },
  {
   "cell_type": "code",
   "execution_count": 92,
   "id": "92113179-bb33-4928-8d98-ed6a8c8b021a",
   "metadata": {},
   "outputs": [
    {
     "data": {
      "text/plain": [
       "array([8, 2, 3])"
      ]
     },
     "execution_count": 92,
     "metadata": {},
     "output_type": "execute_result"
    }
   ],
   "source": [
    "arr"
   ]
  },
  {
   "cell_type": "code",
   "execution_count": 93,
   "id": "e2159cbc-f21f-40aa-806c-df5bdb516b41",
   "metadata": {},
   "outputs": [
    {
     "data": {
      "text/plain": [
       "array([1, 2, 3])"
      ]
     },
     "execution_count": 93,
     "metadata": {},
     "output_type": "execute_result"
    }
   ],
   "source": [
    "x"
   ]
  },
  {
   "cell_type": "code",
   "execution_count": 94,
   "id": "e05ef46f-b77b-4730-a4b2-c7e9ae3eb6b7",
   "metadata": {},
   "outputs": [],
   "source": [
    "# x doesn't change so we take value not reference"
   ]
  },
  {
   "cell_type": "markdown",
   "id": "f2009b3a-2ec9-438c-80f4-8037250fa0df",
   "metadata": {},
   "source": [
    "# Make a view of array"
   ]
  },
  {
   "cell_type": "code",
   "execution_count": 95,
   "id": "7cf8a18d-bcf1-4d60-973d-70762625b37a",
   "metadata": {},
   "outputs": [],
   "source": [
    "x1=arr1.view()"
   ]
  },
  {
   "cell_type": "code",
   "execution_count": 96,
   "id": "bb08c664-f401-487f-a962-a50eddfe8036",
   "metadata": {},
   "outputs": [
    {
     "data": {
      "text/plain": [
       "array([[1, 2, 3],\n",
       "       [4, 5, 6]])"
      ]
     },
     "execution_count": 96,
     "metadata": {},
     "output_type": "execute_result"
    }
   ],
   "source": [
    "x1\n"
   ]
  },
  {
   "cell_type": "code",
   "execution_count": 97,
   "id": "ed4063c0-7f7f-4783-aede-b2527d23a511",
   "metadata": {},
   "outputs": [
    {
     "data": {
      "text/plain": [
       "array([1, 2, 3])"
      ]
     },
     "execution_count": 97,
     "metadata": {},
     "output_type": "execute_result"
    }
   ],
   "source": [
    "x1[0]"
   ]
  },
  {
   "cell_type": "code",
   "execution_count": 98,
   "id": "f5c54b8b-3d0f-47b2-9aac-544d03f84ddf",
   "metadata": {},
   "outputs": [
    {
     "data": {
      "text/plain": [
       "2"
      ]
     },
     "execution_count": 98,
     "metadata": {},
     "output_type": "execute_result"
    }
   ],
   "source": [
    "x1[0, 1]"
   ]
  },
  {
   "cell_type": "code",
   "execution_count": 101,
   "id": "9f87cf09-3d22-4565-806a-6582ab57e154",
   "metadata": {},
   "outputs": [],
   "source": [
    "x1[0,1]=5 # Change in view of array1"
   ]
  },
  {
   "cell_type": "code",
   "execution_count": 102,
   "id": "88e86241-d5eb-4fa0-b5d4-eff948127c40",
   "metadata": {},
   "outputs": [
    {
     "data": {
      "text/plain": [
       "array([[1, 5, 3],\n",
       "       [4, 5, 6]])"
      ]
     },
     "execution_count": 102,
     "metadata": {},
     "output_type": "execute_result"
    }
   ],
   "source": [
    "x1"
   ]
  },
  {
   "cell_type": "code",
   "execution_count": 104,
   "id": "57e5672f-d680-49eb-bfdb-31f95a266ae8",
   "metadata": {},
   "outputs": [
    {
     "data": {
      "text/plain": [
       "array([[1, 5, 3],\n",
       "       [4, 5, 6]])"
      ]
     },
     "execution_count": 104,
     "metadata": {},
     "output_type": "execute_result"
    }
   ],
   "source": [
    "arr1 # affected by change in view"
   ]
  },
  {
   "cell_type": "code",
   "execution_count": 105,
   "id": "4a1c0fd4-a903-4a47-a8cf-b1547c1e08d0",
   "metadata": {},
   "outputs": [
    {
     "data": {
      "text/plain": [
       "5"
      ]
     },
     "execution_count": 105,
     "metadata": {},
     "output_type": "execute_result"
    }
   ],
   "source": [
    "x1[0, 1]"
   ]
  },
  {
   "cell_type": "code",
   "execution_count": 106,
   "id": "9df77192-dd9f-4c04-845a-bc0b7edacc0e",
   "metadata": {},
   "outputs": [
    {
     "data": {
      "text/plain": [
       "5"
      ]
     },
     "execution_count": 106,
     "metadata": {},
     "output_type": "execute_result"
    }
   ],
   "source": [
    "arr1[0,1]"
   ]
  },
  {
   "cell_type": "code",
   "execution_count": 107,
   "id": "677150bc-24b9-434d-8e6a-146233e9ab06",
   "metadata": {},
   "outputs": [],
   "source": [
    "arr1[0,1]=6 # Change in array1"
   ]
  },
  {
   "cell_type": "code",
   "execution_count": 108,
   "id": "22bf3ea3-db00-4805-bcb1-637b3a5e2d5e",
   "metadata": {},
   "outputs": [
    {
     "data": {
      "text/plain": [
       "array([[1, 6, 3],\n",
       "       [4, 5, 6]])"
      ]
     },
     "execution_count": 108,
     "metadata": {},
     "output_type": "execute_result"
    }
   ],
   "source": [
    "arr1"
   ]
  },
  {
   "cell_type": "code",
   "execution_count": 110,
   "id": "2ab919b8-5ad5-49f1-9050-4ba5509e1f99",
   "metadata": {},
   "outputs": [
    {
     "data": {
      "text/plain": [
       "array([[1, 6, 3],\n",
       "       [4, 5, 6]])"
      ]
     },
     "execution_count": 110,
     "metadata": {},
     "output_type": "execute_result"
    }
   ],
   "source": [
    "x1 # affected by change in original array"
   ]
  },
  {
   "cell_type": "code",
   "execution_count": 111,
   "id": "569a7498-57ae-4c09-86a9-ae49e385a22c",
   "metadata": {},
   "outputs": [],
   "source": [
    "# copies owns the data, and views does not own the data"
   ]
  },
  {
   "cell_type": "code",
   "execution_count": 112,
   "id": "2dbc85ba-9bad-4f56-9aa7-54562868f7c9",
   "metadata": {},
   "outputs": [],
   "source": [
    "# Every NumPy array has the attribute base that returns None if the array owns the data \n",
    "# Otherwise, the base  attribute refers to the original object."
   ]
  },
  {
   "cell_type": "code",
   "execution_count": 116,
   "id": "0361ee5a-d376-4315-ab71-682921e14c14",
   "metadata": {},
   "outputs": [
    {
     "name": "stdout",
     "output_type": "stream",
     "text": [
      "None\n"
     ]
    }
   ],
   "source": [
    "print(x.base) # None then it has a data"
   ]
  },
  {
   "cell_type": "code",
   "execution_count": 119,
   "id": "2ace1e70-933b-456b-b609-504c2bec5f76",
   "metadata": {},
   "outputs": [
    {
     "name": "stdout",
     "output_type": "stream",
     "text": [
      "[[1 6 3]\n",
      " [4 5 6]]\n"
     ]
    }
   ],
   "source": [
    "print(x1.base) # Original it doesn't has a data, so data comes from the original array"
   ]
  },
  {
   "cell_type": "markdown",
   "id": "8bfe7bb5-333e-414b-ae41-798f1391c129",
   "metadata": {},
   "source": [
    "# Shape\n",
    "# Analyze and describe array\n",
    "# NumPy arrays have an attribute called shape that returns a tuple with each index having the number of corresponding elements."
   ]
  },
  {
   "cell_type": "code",
   "execution_count": 120,
   "id": "1108c8be-b2c6-4d28-8100-42da63a7c431",
   "metadata": {},
   "outputs": [
    {
     "data": {
      "text/plain": [
       "array([[1, 6, 3],\n",
       "       [4, 5, 6]])"
      ]
     },
     "execution_count": 120,
     "metadata": {},
     "output_type": "execute_result"
    }
   ],
   "source": [
    "arr1"
   ]
  },
  {
   "cell_type": "code",
   "execution_count": 121,
   "id": "588e2360-4a5c-4be9-9561-a71a0fa244bb",
   "metadata": {},
   "outputs": [
    {
     "data": {
      "text/plain": [
       "2"
      ]
     },
     "execution_count": 121,
     "metadata": {},
     "output_type": "execute_result"
    }
   ],
   "source": [
    "arr1.ndim"
   ]
  },
  {
   "cell_type": "code",
   "execution_count": 122,
   "id": "a11cc122-5df5-4ba5-a7c4-627936c8c21d",
   "metadata": {},
   "outputs": [
    {
     "data": {
      "text/plain": [
       "(2, 3)"
      ]
     },
     "execution_count": 122,
     "metadata": {},
     "output_type": "execute_result"
    }
   ],
   "source": [
    "arr1.shape"
   ]
  },
  {
   "cell_type": "code",
   "execution_count": 123,
   "id": "eb2aa0da-2406-412e-ae44-b307b7b95352",
   "metadata": {},
   "outputs": [
    {
     "name": "stdout",
     "output_type": "stream",
     "text": [
      "##########\n"
     ]
    }
   ],
   "source": [
    "print('#'*10)"
   ]
  },
  {
   "cell_type": "code",
   "execution_count": 124,
   "id": "8170a5c3-1df1-4f69-a04f-53ef6e505058",
   "metadata": {},
   "outputs": [
    {
     "data": {
      "text/plain": [
       "array([8, 2, 3])"
      ]
     },
     "execution_count": 124,
     "metadata": {},
     "output_type": "execute_result"
    }
   ],
   "source": [
    "arr"
   ]
  },
  {
   "cell_type": "code",
   "execution_count": 125,
   "id": "9d05ed7d-cab4-4c76-b77c-f78c0413e6a5",
   "metadata": {},
   "outputs": [
    {
     "data": {
      "text/plain": [
       "1"
      ]
     },
     "execution_count": 125,
     "metadata": {},
     "output_type": "execute_result"
    }
   ],
   "source": [
    "arr.ndim"
   ]
  },
  {
   "cell_type": "code",
   "execution_count": 126,
   "id": "945d0984-505b-4e44-83b6-96536d084e5c",
   "metadata": {},
   "outputs": [
    {
     "data": {
      "text/plain": [
       "(3,)"
      ]
     },
     "execution_count": 126,
     "metadata": {},
     "output_type": "execute_result"
    }
   ],
   "source": [
    "arr.shape # Dimension one & it has 3 elements"
   ]
  },
  {
   "cell_type": "code",
   "execution_count": 127,
   "id": "d50c44d2-14aa-4ace-aab1-229771b1f602",
   "metadata": {},
   "outputs": [],
   "source": [
    "arr=[1,2,33,5]"
   ]
  },
  {
   "cell_type": "code",
   "execution_count": 128,
   "id": "b084325f-5dbb-4075-8de9-1df262f13cae",
   "metadata": {},
   "outputs": [
    {
     "data": {
      "text/plain": [
       "[1, 2, 33, 5]"
      ]
     },
     "execution_count": 128,
     "metadata": {},
     "output_type": "execute_result"
    }
   ],
   "source": [
    "arr"
   ]
  },
  {
   "cell_type": "code",
   "execution_count": 129,
   "id": "b33e5c1a-2805-4567-b1d1-0245d2178d9d",
   "metadata": {},
   "outputs": [
    {
     "ename": "AttributeError",
     "evalue": "'list' object has no attribute 'shape'",
     "output_type": "error",
     "traceback": [
      "\u001b[1;31m---------------------------------------------------------------------------\u001b[0m",
      "\u001b[1;31mAttributeError\u001b[0m                            Traceback (most recent call last)",
      "\u001b[1;32m~\\AppData\\Local\\Temp/ipykernel_15020/464376922.py\u001b[0m in \u001b[0;36m<module>\u001b[1;34m\u001b[0m\n\u001b[1;32m----> 1\u001b[1;33m \u001b[0marr\u001b[0m\u001b[1;33m.\u001b[0m\u001b[0mshape\u001b[0m\u001b[1;33m\u001b[0m\u001b[1;33m\u001b[0m\u001b[0m\n\u001b[0m",
      "\u001b[1;31mAttributeError\u001b[0m: 'list' object has no attribute 'shape'"
     ]
    }
   ],
   "source": [
    "arr.shape # arr not numpy array"
   ]
  },
  {
   "cell_type": "code",
   "execution_count": 130,
   "id": "d7c4b8de-4913-4146-a99f-94b728a051d5",
   "metadata": {},
   "outputs": [],
   "source": [
    "arr=np.array(arr)"
   ]
  },
  {
   "cell_type": "code",
   "execution_count": 131,
   "id": "a87c764a-e622-4de4-93a2-8b9ff2f44f84",
   "metadata": {},
   "outputs": [
    {
     "data": {
      "text/plain": [
       "(4,)"
      ]
     },
     "execution_count": 131,
     "metadata": {},
     "output_type": "execute_result"
    }
   ],
   "source": [
    "arr.shape"
   ]
  },
  {
   "cell_type": "code",
   "execution_count": 132,
   "id": "a7697034-2cbc-4297-ba1c-ae6560cf687a",
   "metadata": {},
   "outputs": [
    {
     "data": {
      "text/plain": [
       "array([[1, 6, 3],\n",
       "       [4, 5, 6]])"
      ]
     },
     "execution_count": 132,
     "metadata": {},
     "output_type": "execute_result"
    }
   ],
   "source": [
    "arr1"
   ]
  },
  {
   "cell_type": "code",
   "execution_count": 133,
   "id": "24eeb0b5-f1b7-4a6b-88af-48b4e0d2a761",
   "metadata": {},
   "outputs": [
    {
     "data": {
      "text/plain": [
       "(2, 3)"
      ]
     },
     "execution_count": 133,
     "metadata": {},
     "output_type": "execute_result"
    }
   ],
   "source": [
    "arr1.shape"
   ]
  },
  {
   "cell_type": "code",
   "execution_count": 134,
   "id": "bf1dc4c7-1335-4fcb-b20d-2f02f9645eea",
   "metadata": {},
   "outputs": [
    {
     "data": {
      "text/plain": [
       "array([[[1, 2, 3],\n",
       "        [2, 5, 9]],\n",
       "\n",
       "       [[1, 2, 3],\n",
       "        [2, 5, 9]]])"
      ]
     },
     "execution_count": 134,
     "metadata": {},
     "output_type": "execute_result"
    }
   ],
   "source": [
    "arr2"
   ]
  },
  {
   "cell_type": "code",
   "execution_count": 135,
   "id": "c70c6e4e-ad7b-4f2e-bc33-92fec880086d",
   "metadata": {},
   "outputs": [
    {
     "data": {
      "text/plain": [
       "(2, 2, 3)"
      ]
     },
     "execution_count": 135,
     "metadata": {},
     "output_type": "execute_result"
    }
   ],
   "source": [
    "arr2.shape # 2 lists contain 2 lists each list has 3 elements"
   ]
  },
  {
   "cell_type": "markdown",
   "id": "777b06b1-5fd1-4eb9-af42-30cfc0a14041",
   "metadata": {},
   "source": [
    "# reshape\n",
    "# Change the structure of array"
   ]
  },
  {
   "cell_type": "code",
   "execution_count": 137,
   "id": "04c381af-60bb-4043-98f5-1b147c78773f",
   "metadata": {},
   "outputs": [
    {
     "data": {
      "text/plain": [
       "array([ 1,  2, 33,  5])"
      ]
     },
     "execution_count": 137,
     "metadata": {},
     "output_type": "execute_result"
    }
   ],
   "source": [
    "arr"
   ]
  },
  {
   "cell_type": "code",
   "execution_count": 139,
   "id": "8ec3d2cd-9067-41cc-99a7-3eb4a61a3a73",
   "metadata": {},
   "outputs": [
    {
     "data": {
      "text/plain": [
       "1"
      ]
     },
     "execution_count": 139,
     "metadata": {},
     "output_type": "execute_result"
    }
   ],
   "source": [
    "arr.ndim"
   ]
  },
  {
   "cell_type": "code",
   "execution_count": 145,
   "id": "bd855434-abaa-4dbd-8749-3b432eec77f1",
   "metadata": {},
   "outputs": [],
   "source": [
    "reshaped_arr2=arr.reshape(2, 2) # ndim, each list has 2 elements"
   ]
  },
  {
   "cell_type": "code",
   "execution_count": 146,
   "id": "7330733f-d1b5-4f6f-be6f-c3ea85d9580a",
   "metadata": {},
   "outputs": [
    {
     "data": {
      "text/plain": [
       "1"
      ]
     },
     "execution_count": 146,
     "metadata": {},
     "output_type": "execute_result"
    }
   ],
   "source": [
    "arr.ndim"
   ]
  },
  {
   "cell_type": "code",
   "execution_count": 147,
   "id": "2de2a0a6-21e3-4e04-9a45-12bd02d2ac90",
   "metadata": {},
   "outputs": [
    {
     "data": {
      "text/plain": [
       "2"
      ]
     },
     "execution_count": 147,
     "metadata": {},
     "output_type": "execute_result"
    }
   ],
   "source": [
    "reshaped_arr2.ndim"
   ]
  },
  {
   "cell_type": "code",
   "execution_count": 148,
   "id": "68536f17-36ca-424c-b7bf-be8c1a8514b1",
   "metadata": {},
   "outputs": [],
   "source": [
    "# don't forget run code"
   ]
  },
  {
   "cell_type": "code",
   "execution_count": 149,
   "id": "a9e8fb93-2246-49c6-9c57-454867dc759b",
   "metadata": {},
   "outputs": [
    {
     "data": {
      "text/plain": [
       "2"
      ]
     },
     "execution_count": 149,
     "metadata": {},
     "output_type": "execute_result"
    }
   ],
   "source": [
    "reshaped_arr2.ndim"
   ]
  },
  {
   "cell_type": "code",
   "execution_count": 152,
   "id": "e08ff04d-0994-4f6e-adcc-0e2bf727988e",
   "metadata": {},
   "outputs": [
    {
     "data": {
      "text/plain": [
       "(2, 2)"
      ]
     },
     "execution_count": 152,
     "metadata": {},
     "output_type": "execute_result"
    }
   ],
   "source": [
    "reshaped_arr2.shape # 2 lists contain 2 elements"
   ]
  },
  {
   "cell_type": "code",
   "execution_count": 150,
   "id": "8f7bc260-40d2-4c98-8d00-46193e591ec9",
   "metadata": {},
   "outputs": [
    {
     "data": {
      "text/plain": [
       "array([ 1,  2, 33,  5])"
      ]
     },
     "execution_count": 150,
     "metadata": {},
     "output_type": "execute_result"
    }
   ],
   "source": [
    "arr"
   ]
  },
  {
   "cell_type": "code",
   "execution_count": 151,
   "id": "95ec9fe1-a398-4cc4-ac8e-ba9168881d3c",
   "metadata": {},
   "outputs": [
    {
     "ename": "ValueError",
     "evalue": "cannot reshape array of size 4 into shape (3,1)",
     "output_type": "error",
     "traceback": [
      "\u001b[1;31m---------------------------------------------------------------------------\u001b[0m",
      "\u001b[1;31mValueError\u001b[0m                                Traceback (most recent call last)",
      "\u001b[1;32m~\\AppData\\Local\\Temp/ipykernel_15020/1877257028.py\u001b[0m in \u001b[0;36m<module>\u001b[1;34m\u001b[0m\n\u001b[1;32m----> 1\u001b[1;33m \u001b[0mreshaped_arr3\u001b[0m\u001b[1;33m=\u001b[0m\u001b[0marr\u001b[0m\u001b[1;33m.\u001b[0m\u001b[0mreshape\u001b[0m\u001b[1;33m(\u001b[0m\u001b[1;36m3\u001b[0m\u001b[1;33m,\u001b[0m \u001b[1;36m1\u001b[0m\u001b[1;33m)\u001b[0m\u001b[1;33m\u001b[0m\u001b[1;33m\u001b[0m\u001b[0m\n\u001b[0m",
      "\u001b[1;31mValueError\u001b[0m: cannot reshape array of size 4 into shape (3,1)"
     ]
    }
   ],
   "source": [
    "reshaped_arr3=arr.reshape(3, 1)"
   ]
  },
  {
   "cell_type": "code",
   "execution_count": 153,
   "id": "5b49d71a-3a77-4ed4-919d-f52ea1491fd8",
   "metadata": {},
   "outputs": [
    {
     "ename": "NameError",
     "evalue": "name 'reshape' is not defined",
     "output_type": "error",
     "traceback": [
      "\u001b[1;31m---------------------------------------------------------------------------\u001b[0m",
      "\u001b[1;31mNameError\u001b[0m                                 Traceback (most recent call last)",
      "\u001b[1;32m~\\AppData\\Local\\Temp/ipykernel_15020/1873237556.py\u001b[0m in \u001b[0;36m<module>\u001b[1;34m\u001b[0m\n\u001b[1;32m----> 1\u001b[1;33m \u001b[0marr\u001b[0m\u001b[1;33m=\u001b[0m\u001b[0mreshaped_arr2\u001b[0m\u001b[1;33m,\u001b[0m\u001b[0mreshape\u001b[0m\u001b[1;33m(\u001b[0m\u001b[1;33m-\u001b[0m\u001b[1;36m1\u001b[0m\u001b[1;33m)\u001b[0m \u001b[1;31m# return it in 1-d array\u001b[0m\u001b[1;33m\u001b[0m\u001b[1;33m\u001b[0m\u001b[0m\n\u001b[0m",
      "\u001b[1;31mNameError\u001b[0m: name 'reshape' is not defined"
     ]
    }
   ],
   "source": [
    "arr=reshaped_arr2,reshape(-1) # return it in 1-d array"
   ]
  },
  {
   "cell_type": "code",
   "execution_count": 154,
   "id": "21698777-c114-4809-a30a-9633a68d776d",
   "metadata": {},
   "outputs": [],
   "source": [
    "arr=reshaped_arr2.reshape(-1) # return it in 1-d array"
   ]
  },
  {
   "cell_type": "code",
   "execution_count": 156,
   "id": "cc51a298-f6c8-4115-8751-03c345b44950",
   "metadata": {},
   "outputs": [
    {
     "data": {
      "text/plain": [
       "array([ 1,  2, 33,  5])"
      ]
     },
     "execution_count": 156,
     "metadata": {},
     "output_type": "execute_result"
    }
   ],
   "source": [
    "arr"
   ]
  },
  {
   "cell_type": "code",
   "execution_count": 157,
   "id": "6281e0ea-ba02-4dbc-bcba-c86d4a9d75bb",
   "metadata": {},
   "outputs": [
    {
     "data": {
      "text/plain": [
       "array([[1, 6, 3],\n",
       "       [4, 5, 6]])"
      ]
     },
     "execution_count": 157,
     "metadata": {},
     "output_type": "execute_result"
    }
   ],
   "source": [
    "arr1"
   ]
  },
  {
   "cell_type": "code",
   "execution_count": 158,
   "id": "8bccb64b-7e1d-43e8-99e9-4d817e5ec9ba",
   "metadata": {},
   "outputs": [
    {
     "data": {
      "text/plain": [
       "6"
      ]
     },
     "execution_count": 158,
     "metadata": {},
     "output_type": "execute_result"
    }
   ],
   "source": [
    "len(arr1.reshape(-1))"
   ]
  },
  {
   "cell_type": "code",
   "execution_count": 159,
   "id": "27a3d6f4-aad9-4e3d-9734-71484d8d8e4e",
   "metadata": {},
   "outputs": [
    {
     "data": {
      "text/plain": [
       "2"
      ]
     },
     "execution_count": 159,
     "metadata": {},
     "output_type": "execute_result"
    }
   ],
   "source": [
    "arr1.ndim"
   ]
  },
  {
   "cell_type": "code",
   "execution_count": null,
   "id": "b6df71c8-7dd5-42ed-97ea-65a0db652054",
   "metadata": {},
   "outputs": [
    {
     "ename": "NameError",
     "evalue": "name 'reshaped_arr1' is not defined",
     "output_type": "error",
     "traceback": [
      "\u001b[1;31m---------------------------------------------------------------------------\u001b[0m",
      "\u001b[1;31mNameError\u001b[0m                                 Traceback (most recent call last)",
      "\u001b[1;32m~\\AppData\\Local\\Temp/ipykernel_15020/277311149.py\u001b[0m in \u001b[0;36m<module>\u001b[1;34m\u001b[0m\n\u001b[1;32m----> 1\u001b[1;33m \u001b[0mreshaped_arr1\u001b[0m\u001b[1;33m.\u001b[0m\u001b[0mreshape\u001b[0m\u001b[1;33m(\u001b[0m\u001b[1;36m3\u001b[0m\u001b[1;33m,\u001b[0m \u001b[1;36m1\u001b[0m\u001b[1;33m)\u001b[0m\u001b[1;33m\u001b[0m\u001b[1;33m\u001b[0m\u001b[0m\n\u001b[0m",
      "\u001b[1;31mNameError\u001b[0m: name 'reshaped_arr1' is not defined"
     ]
    }
   ],
   "source": [
    "reshaped_arr1.reshape(3, 1)"
   ]
  },
  {
   "cell_type": "code",
   "execution_count": 161,
   "id": "b6e26ce1-5c7c-44d4-82fb-be2aab747421",
   "metadata": {},
   "outputs": [
    {
     "ename": "ValueError",
     "evalue": "cannot reshape array of size 6 into shape (3,1)",
     "output_type": "error",
     "traceback": [
      "\u001b[1;31m---------------------------------------------------------------------------\u001b[0m",
      "\u001b[1;31mValueError\u001b[0m                                Traceback (most recent call last)",
      "\u001b[1;32m~\\AppData\\Local\\Temp/ipykernel_15020/4181323928.py\u001b[0m in \u001b[0;36m<module>\u001b[1;34m\u001b[0m\n\u001b[1;32m----> 1\u001b[1;33m \u001b[0mreshaped_arr1\u001b[0m\u001b[1;33m=\u001b[0m\u001b[0marr1\u001b[0m\u001b[1;33m.\u001b[0m\u001b[0mreshape\u001b[0m\u001b[1;33m(\u001b[0m\u001b[1;36m3\u001b[0m\u001b[1;33m,\u001b[0m \u001b[1;36m1\u001b[0m\u001b[1;33m)\u001b[0m\u001b[1;33m\u001b[0m\u001b[1;33m\u001b[0m\u001b[0m\n\u001b[0m",
      "\u001b[1;31mValueError\u001b[0m: cannot reshape array of size 6 into shape (3,1)"
     ]
    }
   ],
   "source": [
    "reshaped_arr1=arr1.reshape(3, 1)"
   ]
  },
  {
   "cell_type": "code",
   "execution_count": 163,
   "id": "e7c09234-584a-496e-be9c-0272662b05e7",
   "metadata": {},
   "outputs": [],
   "source": [
    "reshaped_arr1=arr1.reshape(3, 2)"
   ]
  },
  {
   "cell_type": "code",
   "execution_count": 165,
   "id": "635d697b-138c-4e99-8676-3788f7b771d0",
   "metadata": {},
   "outputs": [
    {
     "name": "stdout",
     "output_type": "stream",
     "text": [
      "[[1 6 3]\n",
      " [4 5 6]]\n"
     ]
    }
   ],
   "source": [
    "print(arr1)"
   ]
  },
  {
   "cell_type": "code",
   "execution_count": 166,
   "id": "3200de1c-ec3f-41bf-9ef7-561c47127c89",
   "metadata": {},
   "outputs": [
    {
     "name": "stdout",
     "output_type": "stream",
     "text": [
      "[[1 6]\n",
      " [3 4]\n",
      " [5 6]]\n"
     ]
    }
   ],
   "source": [
    "print(reshaped_arr1)"
   ]
  },
  {
   "cell_type": "code",
   "execution_count": 167,
   "id": "275e4535-94b2-4a53-a2e9-c98bc84c6b1e",
   "metadata": {},
   "outputs": [
    {
     "data": {
      "text/plain": [
       "2"
      ]
     },
     "execution_count": 167,
     "metadata": {},
     "output_type": "execute_result"
    }
   ],
   "source": [
    "reshaped_arr1.ndim"
   ]
  },
  {
   "cell_type": "code",
   "execution_count": 176,
   "id": "0e90470d-0212-45e8-a7ab-f7eded2136a5",
   "metadata": {},
   "outputs": [
    {
     "data": {
      "text/plain": [
       "(3, 2)"
      ]
     },
     "execution_count": 176,
     "metadata": {},
     "output_type": "execute_result"
    }
   ],
   "source": [
    "reshaped_arr1.shape # 3 rows & each row has 2 elements num_elements=3*2"
   ]
  },
  {
   "cell_type": "code",
   "execution_count": 174,
   "id": "ae87807b-a649-4ec6-9100-96d5768962e3",
   "metadata": {},
   "outputs": [],
   "source": [
    "reshaped_arr13=arr1.reshape(1, 2, 3) # convert 2D into 3D"
   ]
  },
  {
   "cell_type": "code",
   "execution_count": 171,
   "id": "3f082480-d0b5-4fe3-89bc-650b12c9e026",
   "metadata": {},
   "outputs": [
    {
     "data": {
      "text/plain": [
       "array([[[1, 6, 3],\n",
       "        [4, 5, 6]]])"
      ]
     },
     "execution_count": 171,
     "metadata": {},
     "output_type": "execute_result"
    }
   ],
   "source": [
    "reshaped_arr13"
   ]
  },
  {
   "cell_type": "code",
   "execution_count": 173,
   "id": "99e8f539-887f-4d6a-847e-74243c43af73",
   "metadata": {},
   "outputs": [
    {
     "data": {
      "text/plain": [
       "3"
      ]
     },
     "execution_count": 173,
     "metadata": {},
     "output_type": "execute_result"
    }
   ],
   "source": [
    "reshaped_arr13.ndim"
   ]
  },
  {
   "cell_type": "code",
   "execution_count": 177,
   "id": "11acab02-46d0-4c75-afe2-37f8cac39c36",
   "metadata": {},
   "outputs": [
    {
     "data": {
      "text/plain": [
       "(1, 2, 3)"
      ]
     },
     "execution_count": 177,
     "metadata": {},
     "output_type": "execute_result"
    }
   ],
   "source": [
    "reshaped_arr13.shape # 1*2*3=6 elements"
   ]
  },
  {
   "cell_type": "code",
   "execution_count": 175,
   "id": "60584434-0860-43f5-8791-14cb2d8a930d",
   "metadata": {},
   "outputs": [],
   "source": [
    "arr_=[1,2,3,4,5,6,7,8,9,10] # 10 elements"
   ]
  },
  {
   "cell_type": "code",
   "execution_count": 178,
   "id": "bd0872f9-3cde-4413-b837-f8da8abeb722",
   "metadata": {},
   "outputs": [
    {
     "ename": "AttributeError",
     "evalue": "'list' object has no attribute 'reshape'",
     "output_type": "error",
     "traceback": [
      "\u001b[1;31m---------------------------------------------------------------------------\u001b[0m",
      "\u001b[1;31mAttributeError\u001b[0m                            Traceback (most recent call last)",
      "\u001b[1;32m~\\AppData\\Local\\Temp/ipykernel_15020/3800142292.py\u001b[0m in \u001b[0;36m<module>\u001b[1;34m\u001b[0m\n\u001b[1;32m----> 1\u001b[1;33m \u001b[0marr_\u001b[0m\u001b[1;33m.\u001b[0m\u001b[0mreshape\u001b[0m\u001b[1;33m(\u001b[0m\u001b[1;36m2\u001b[0m\u001b[1;33m,\u001b[0m \u001b[1;36m5\u001b[0m\u001b[1;33m,\u001b[0m \u001b[1;36m1\u001b[0m\u001b[1;33m)\u001b[0m\u001b[1;33m\u001b[0m\u001b[1;33m\u001b[0m\u001b[0m\n\u001b[0m",
      "\u001b[1;31mAttributeError\u001b[0m: 'list' object has no attribute 'reshape'"
     ]
    }
   ],
   "source": [
    "arr_.reshape(2, 5, 1)"
   ]
  },
  {
   "cell_type": "code",
   "execution_count": 179,
   "id": "aed4f505-7d8d-44e5-b461-8d1c1bd7cbe0",
   "metadata": {},
   "outputs": [],
   "source": [
    "arr_=np.array([1,2,3,4,5,6,7,8,9,10]) # 10 elements"
   ]
  },
  {
   "cell_type": "code",
   "execution_count": 180,
   "id": "f90575da-3cb0-4e0a-b97f-e6ebef2d3819",
   "metadata": {},
   "outputs": [
    {
     "data": {
      "text/plain": [
       "array([[[ 1],\n",
       "        [ 2],\n",
       "        [ 3],\n",
       "        [ 4],\n",
       "        [ 5]],\n",
       "\n",
       "       [[ 6],\n",
       "        [ 7],\n",
       "        [ 8],\n",
       "        [ 9],\n",
       "        [10]]])"
      ]
     },
     "execution_count": 180,
     "metadata": {},
     "output_type": "execute_result"
    }
   ],
   "source": [
    "arr_.reshape(2, 5, 1) # 3D"
   ]
  },
  {
   "cell_type": "code",
   "execution_count": 181,
   "id": "45350ff5-645d-4eea-bcc5-27fff10a8e0e",
   "metadata": {},
   "outputs": [
    {
     "data": {
      "text/plain": [
       "array([[ 1,  2,  3,  4,  5],\n",
       "       [ 6,  7,  8,  9, 10]])"
      ]
     },
     "execution_count": 181,
     "metadata": {},
     "output_type": "execute_result"
    }
   ],
   "source": [
    "arr_.reshape(2, 5) # 2D"
   ]
  },
  {
   "cell_type": "markdown",
   "id": "a3558a0f-7c99-48d2-8d82-cb810eb8f192",
   "metadata": {},
   "source": [
    "# Important Thing about reshape"
   ]
  },
  {
   "cell_type": "code",
   "execution_count": null,
   "id": "0bf0a1a1-0f51-427b-8431-1d9e69e3a2ce",
   "metadata": {},
   "outputs": [],
   "source": [
    "# Check if the returned array is a copy or a view"
   ]
  },
  {
   "cell_type": "code",
   "execution_count": 182,
   "id": "a82e50f1-dcb7-4bc8-a991-2860efc3c52a",
   "metadata": {},
   "outputs": [],
   "source": [
    "ahmed_degeres = np.array([1, 2, 3, 4, 5, 6, 7, 8])"
   ]
  },
  {
   "cell_type": "code",
   "execution_count": 185,
   "id": "ef540891-4fce-432d-b79a-972249d03f36",
   "metadata": {},
   "outputs": [
    {
     "data": {
      "text/plain": [
       "array([1, 2, 3, 4, 5, 6, 7, 8])"
      ]
     },
     "execution_count": 185,
     "metadata": {},
     "output_type": "execute_result"
    }
   ],
   "source": [
    "ahmed_degeres.reshape(2, 4).base # returned as a view cause it gets original array\n",
    "# So any change happen by reshaped array directly affects the original array"
   ]
  },
  {
   "cell_type": "markdown",
   "id": "55f84340-c3e5-4888-ab65-16f1c72d5a34",
   "metadata": {},
   "source": [
    "# Unknown Dimension\n",
    "# You are allowed to have one \"unknown\" dimension.\n",
    "\n",
    "# Meaning that you do not have to specify an exact number for one of the dimensions in the reshape method.\n",
    "\n",
    "# Pass -1 as the value, and NumPy will calculate this number for you."
   ]
  },
  {
   "cell_type": "code",
   "execution_count": 188,
   "id": "d5e7f3d8-77b9-4975-a418-c40fc6bdfb5d",
   "metadata": {},
   "outputs": [],
   "source": [
    "reshaped_ahmed_degeres=ahmed_degeres.reshape(2,2,-1)"
   ]
  },
  {
   "cell_type": "code",
   "execution_count": 189,
   "id": "872147cf-fd8a-4c11-8215-5b8948862859",
   "metadata": {},
   "outputs": [
    {
     "data": {
      "text/plain": [
       "array([[[1, 2],\n",
       "        [3, 4]],\n",
       "\n",
       "       [[5, 6],\n",
       "        [7, 8]]])"
      ]
     },
     "execution_count": 189,
     "metadata": {},
     "output_type": "execute_result"
    }
   ],
   "source": [
    "reshaped_ahmed_degeres"
   ]
  },
  {
   "cell_type": "code",
   "execution_count": 190,
   "id": "1bcba249-1088-40be-9cf8-5a34d43456ae",
   "metadata": {},
   "outputs": [
    {
     "data": {
      "text/plain": [
       "3"
      ]
     },
     "execution_count": 190,
     "metadata": {},
     "output_type": "execute_result"
    }
   ],
   "source": [
    "reshaped_ahmed_degeres.ndim"
   ]
  },
  {
   "cell_type": "code",
   "execution_count": 191,
   "id": "7f78778a-b54e-4781-aa3c-db40d9324c09",
   "metadata": {},
   "outputs": [
    {
     "data": {
      "text/plain": [
       "(2, 2, 2)"
      ]
     },
     "execution_count": 191,
     "metadata": {},
     "output_type": "execute_result"
    }
   ],
   "source": [
    "reshaped_ahmed_degeres.shape # 2*2*2= 8 elements"
   ]
  },
  {
   "cell_type": "code",
   "execution_count": 192,
   "id": "5445bc99-1f1c-4f54-b989-b3b4a88fcd88",
   "metadata": {},
   "outputs": [],
   "source": [
    "reshaped_ahmed_degeres=ahmed_degeres.reshape(2,1,-1)"
   ]
  },
  {
   "cell_type": "code",
   "execution_count": 193,
   "id": "d3dab9df-76be-45bd-af82-c628544201cf",
   "metadata": {},
   "outputs": [
    {
     "data": {
      "text/plain": [
       "(2, 1, 4)"
      ]
     },
     "execution_count": 193,
     "metadata": {},
     "output_type": "execute_result"
    }
   ],
   "source": [
    "reshaped_ahmed_degeres.shape # 2*1*4 = 8 elements"
   ]
  },
  {
   "cell_type": "code",
   "execution_count": 194,
   "id": "75860560-1d49-4aa5-89c7-644da4c097be",
   "metadata": {},
   "outputs": [
    {
     "data": {
      "text/plain": [
       "array([[[1, 2, 3, 4]],\n",
       "\n",
       "       [[5, 6, 7, 8]]])"
      ]
     },
     "execution_count": 194,
     "metadata": {},
     "output_type": "execute_result"
    }
   ],
   "source": [
    "reshaped_ahmed_degeres"
   ]
  },
  {
   "cell_type": "markdown",
   "id": "31d8bcd0-2f67-4621-9504-a12190ce6f07",
   "metadata": {},
   "source": [
    "# Flattening the arrays"
   ]
  },
  {
   "cell_type": "code",
   "execution_count": 195,
   "id": "325ab70b-3f24-4f63-834c-c61d62e51b30",
   "metadata": {},
   "outputs": [
    {
     "data": {
      "text/plain": [
       "array([1, 2, 3, 4, 5, 6, 7, 8])"
      ]
     },
     "execution_count": 195,
     "metadata": {},
     "output_type": "execute_result"
    }
   ],
   "source": [
    "reshaped_ahmed_degeres.reshape(-1)"
   ]
  },
  {
   "cell_type": "markdown",
   "id": "1e608db4-0ae6-4d1a-8b42-c8646c0ad706",
   "metadata": {},
   "source": [
    "# Note: There are a lot of functions for changing the shapes of arrays in numpy flatten, ravel and also for rearranging the elements rot90, flip, fliplr, flipud etc. These fall under Intermediate to Advanced section of numpy."
   ]
  },
  {
   "cell_type": "markdown",
   "id": "454fa2ea-4fc9-440c-9c80-2675987294cc",
   "metadata": {},
   "source": [
    "# Array Iterating\n",
    "# Use for in statement"
   ]
  },
  {
   "cell_type": "markdown",
   "id": "7893cdb5-8125-497e-b755-f6a5f1a6568e",
   "metadata": {},
   "source": [
    "# Join arrays"
   ]
  },
  {
   "cell_type": "markdown",
   "id": "94554c7c-4934-46b1-ac99-b7a0d75fae32",
   "metadata": {},
   "source": [
    "# concatenate"
   ]
  },
  {
   "cell_type": "code",
   "execution_count": 196,
   "id": "8158e785-df90-42e9-be40-f34259af521c",
   "metadata": {},
   "outputs": [
    {
     "ename": "TypeError",
     "evalue": "array() takes from 1 to 2 positional arguments but 3 were given",
     "output_type": "error",
     "traceback": [
      "\u001b[1;31m---------------------------------------------------------------------------\u001b[0m",
      "\u001b[1;31mTypeError\u001b[0m                                 Traceback (most recent call last)",
      "\u001b[1;32m~\\AppData\\Local\\Temp/ipykernel_15020/2375478287.py\u001b[0m in \u001b[0;36m<module>\u001b[1;34m\u001b[0m\n\u001b[0;32m      1\u001b[0m \u001b[0marr1\u001b[0m\u001b[1;33m=\u001b[0m\u001b[0mnp\u001b[0m\u001b[1;33m.\u001b[0m\u001b[0marray\u001b[0m\u001b[1;33m(\u001b[0m\u001b[1;33m[\u001b[0m\u001b[1;36m1\u001b[0m\u001b[1;33m,\u001b[0m\u001b[1;36m2\u001b[0m\u001b[1;33m,\u001b[0m\u001b[1;36m3\u001b[0m\u001b[1;33m]\u001b[0m\u001b[1;33m)\u001b[0m\u001b[1;33m\u001b[0m\u001b[1;33m\u001b[0m\u001b[0m\n\u001b[1;32m----> 2\u001b[1;33m \u001b[0marr2\u001b[0m\u001b[1;33m=\u001b[0m\u001b[0mnp\u001b[0m\u001b[1;33m.\u001b[0m\u001b[0marray\u001b[0m\u001b[1;33m(\u001b[0m\u001b[1;36m4\u001b[0m\u001b[1;33m,\u001b[0m\u001b[1;36m5\u001b[0m\u001b[1;33m,\u001b[0m\u001b[1;36m6\u001b[0m\u001b[1;33m)\u001b[0m\u001b[1;33m\u001b[0m\u001b[1;33m\u001b[0m\u001b[0m\n\u001b[0m",
      "\u001b[1;31mTypeError\u001b[0m: array() takes from 1 to 2 positional arguments but 3 were given"
     ]
    }
   ],
   "source": [
    "arr1=np.array([1,2,3])\n",
    "arr2=np.array(4,5,6)"
   ]
  },
  {
   "cell_type": "code",
   "execution_count": 197,
   "id": "e5f9caa7-531f-40fc-a0ec-724aa190f7ca",
   "metadata": {},
   "outputs": [],
   "source": [
    "arr2=np.array([4,5,6])"
   ]
  },
  {
   "cell_type": "code",
   "execution_count": 199,
   "id": "203687c9-4143-45aa-a0c1-15976b0ee5fc",
   "metadata": {},
   "outputs": [
    {
     "ename": "TypeError",
     "evalue": "only integer scalar arrays can be converted to a scalar index",
     "output_type": "error",
     "traceback": [
      "\u001b[1;31m---------------------------------------------------------------------------\u001b[0m",
      "\u001b[1;31mTypeError\u001b[0m                                 Traceback (most recent call last)",
      "\u001b[1;32m~\\AppData\\Local\\Temp/ipykernel_15020/3933596487.py\u001b[0m in \u001b[0;36m<module>\u001b[1;34m\u001b[0m\n\u001b[1;32m----> 1\u001b[1;33m \u001b[0mnp\u001b[0m\u001b[1;33m.\u001b[0m\u001b[0mconcatenate\u001b[0m\u001b[1;33m(\u001b[0m\u001b[0marr1\u001b[0m\u001b[1;33m,\u001b[0m \u001b[0marr2\u001b[0m\u001b[1;33m)\u001b[0m\u001b[1;33m\u001b[0m\u001b[1;33m\u001b[0m\u001b[0m\n\u001b[0m",
      "\u001b[1;32m<__array_function__ internals>\u001b[0m in \u001b[0;36mconcatenate\u001b[1;34m(*args, **kwargs)\u001b[0m\n",
      "\u001b[1;31mTypeError\u001b[0m: only integer scalar arrays can be converted to a scalar index"
     ]
    }
   ],
   "source": [
    "np.concatenate(arr1, arr2)"
   ]
  },
  {
   "cell_type": "code",
   "execution_count": 200,
   "id": "fe6cbb06-6119-4d44-a4ec-cf432d119915",
   "metadata": {},
   "outputs": [
    {
     "data": {
      "text/plain": [
       "array([1, 2, 3, 4, 5, 6])"
      ]
     },
     "execution_count": 200,
     "metadata": {},
     "output_type": "execute_result"
    }
   ],
   "source": [
    "np.concatenate((arr1, arr2))"
   ]
  },
  {
   "cell_type": "code",
   "execution_count": 201,
   "id": "4de24962-a19d-49b2-8aea-0681e160407a",
   "metadata": {},
   "outputs": [],
   "source": [
    "arr1=np.array([[1,2], [3,4]]) # shape (2,2) 2 lists each one has 2 element :concatenation = 4 elements\n",
    "arr2=np.array([[5,6], [7,8]])"
   ]
  },
  {
   "cell_type": "code",
   "execution_count": 202,
   "id": "aca66991-2f8a-428b-8c80-0e56f6164d33",
   "metadata": {},
   "outputs": [
    {
     "data": {
      "text/plain": [
       "array([[1, 2],\n",
       "       [3, 4],\n",
       "       [5, 6],\n",
       "       [7, 8]])"
      ]
     },
     "execution_count": 202,
     "metadata": {},
     "output_type": "execute_result"
    }
   ],
   "source": [
    "np.concatenate((arr1, arr2)) # Doesn't make anything cause axis"
   ]
  },
  {
   "cell_type": "code",
   "execution_count": 203,
   "id": "b6556aad-44dd-453c-8e2f-3fb3dc2de377",
   "metadata": {},
   "outputs": [
    {
     "data": {
      "text/plain": [
       "array([[1, 2, 5, 6],\n",
       "       [3, 4, 7, 8]])"
      ]
     },
     "execution_count": 203,
     "metadata": {},
     "output_type": "execute_result"
    }
   ],
   "source": [
    "np.concatenate((arr1, arr2), axis=1)"
   ]
  },
  {
   "cell_type": "markdown",
   "id": "8c75f536-c2c4-4ab1-a819-34253f057cee",
   "metadata": {},
   "source": [
    "# stack\n",
    "\n",
    "# Stacking is same as concatenation, the only difference is that stacking is done along a new axis.\n",
    "\n",
    "# We can concatenate two 1-D arrays along the second axis which would result in putting them one over the other, ie. stacking.\n",
    "\n",
    "# We pass a sequence of arrays that we want to join to the stack() method along with the axis. If axis is not explicitly passed it is taken as 0."
   ]
  },
  {
   "cell_type": "code",
   "execution_count": 206,
   "id": "f3d69a05-53b3-49ee-95fd-3b236f19d68f",
   "metadata": {},
   "outputs": [
    {
     "ename": "AxisError",
     "evalue": "axis 2 is out of bounds for array of dimension 2",
     "output_type": "error",
     "traceback": [
      "\u001b[1;31m---------------------------------------------------------------------------\u001b[0m",
      "\u001b[1;31mAxisError\u001b[0m                                 Traceback (most recent call last)",
      "\u001b[1;32m~\\AppData\\Local\\Temp/ipykernel_15020/3641389588.py\u001b[0m in \u001b[0;36m<module>\u001b[1;34m\u001b[0m\n\u001b[1;32m----> 1\u001b[1;33m \u001b[0mnp\u001b[0m\u001b[1;33m.\u001b[0m\u001b[0mstack\u001b[0m\u001b[1;33m(\u001b[0m\u001b[1;33m(\u001b[0m\u001b[0marr1\u001b[0m\u001b[1;33m,\u001b[0m \u001b[0marr2\u001b[0m\u001b[1;33m)\u001b[0m\u001b[1;33m,\u001b[0m \u001b[0maxis\u001b[0m\u001b[1;33m=\u001b[0m\u001b[1;36m2\u001b[0m\u001b[1;33m)\u001b[0m\u001b[1;33m\u001b[0m\u001b[1;33m\u001b[0m\u001b[0m\n\u001b[0m",
      "\u001b[1;32m<__array_function__ internals>\u001b[0m in \u001b[0;36mstack\u001b[1;34m(*args, **kwargs)\u001b[0m\n",
      "\u001b[1;32m~\\AppData\\Local\\Programs\\Python\\Python310\\lib\\site-packages\\numpy\\core\\shape_base.py\u001b[0m in \u001b[0;36mstack\u001b[1;34m(arrays, axis, out)\u001b[0m\n\u001b[0;32m    427\u001b[0m \u001b[1;33m\u001b[0m\u001b[0m\n\u001b[0;32m    428\u001b[0m     \u001b[0mresult_ndim\u001b[0m \u001b[1;33m=\u001b[0m \u001b[0marrays\u001b[0m\u001b[1;33m[\u001b[0m\u001b[1;36m0\u001b[0m\u001b[1;33m]\u001b[0m\u001b[1;33m.\u001b[0m\u001b[0mndim\u001b[0m \u001b[1;33m+\u001b[0m \u001b[1;36m1\u001b[0m\u001b[1;33m\u001b[0m\u001b[1;33m\u001b[0m\u001b[0m\n\u001b[1;32m--> 429\u001b[1;33m     \u001b[0maxis\u001b[0m \u001b[1;33m=\u001b[0m \u001b[0mnormalize_axis_index\u001b[0m\u001b[1;33m(\u001b[0m\u001b[0maxis\u001b[0m\u001b[1;33m,\u001b[0m \u001b[0mresult_ndim\u001b[0m\u001b[1;33m)\u001b[0m\u001b[1;33m\u001b[0m\u001b[1;33m\u001b[0m\u001b[0m\n\u001b[0m\u001b[0;32m    430\u001b[0m \u001b[1;33m\u001b[0m\u001b[0m\n\u001b[0;32m    431\u001b[0m     \u001b[0msl\u001b[0m \u001b[1;33m=\u001b[0m \u001b[1;33m(\u001b[0m\u001b[0mslice\u001b[0m\u001b[1;33m(\u001b[0m\u001b[1;32mNone\u001b[0m\u001b[1;33m)\u001b[0m\u001b[1;33m,\u001b[0m\u001b[1;33m)\u001b[0m \u001b[1;33m*\u001b[0m \u001b[0maxis\u001b[0m \u001b[1;33m+\u001b[0m \u001b[1;33m(\u001b[0m\u001b[0m_nx\u001b[0m\u001b[1;33m.\u001b[0m\u001b[0mnewaxis\u001b[0m\u001b[1;33m,\u001b[0m\u001b[1;33m)\u001b[0m\u001b[1;33m\u001b[0m\u001b[1;33m\u001b[0m\u001b[0m\n",
      "\u001b[1;31mAxisError\u001b[0m: axis 2 is out of bounds for array of dimension 2"
     ]
    }
   ],
   "source": [
    "np.stack((arr1, arr2), axis=2)"
   ]
  },
  {
   "cell_type": "code",
   "execution_count": 210,
   "id": "74f06501-9fbc-4119-8502-fbb811e45337",
   "metadata": {},
   "outputs": [
    {
     "data": {
      "text/plain": [
       "array([[[1, 2],\n",
       "        [5, 6]],\n",
       "\n",
       "       [[3, 4],\n",
       "        [7, 8]]])"
      ]
     },
     "execution_count": 210,
     "metadata": {},
     "output_type": "execute_result"
    }
   ],
   "source": [
    "arr1=np.array([[1,2], [3,4]])\n",
    "arr2=np.array([[5,6], [7,8]])\n",
    "np.stack((arr1, arr2), axis=1)"
   ]
  },
  {
   "cell_type": "code",
   "execution_count": 212,
   "id": "c5988c32-8041-45d1-ab85-f1bd050eefab",
   "metadata": {},
   "outputs": [
    {
     "data": {
      "text/plain": [
       "array([[1, 4],\n",
       "       [2, 5],\n",
       "       [3, 6]])"
      ]
     },
     "execution_count": 212,
     "metadata": {},
     "output_type": "execute_result"
    }
   ],
   "source": [
    "arr1 = np.array([1, 2, 3])\n",
    "arr2 = np.array([4, 5, 6])\n",
    "np.stack((arr1, arr2), axis=1)"
   ]
  },
  {
   "cell_type": "markdown",
   "id": "6d6bf005-d9fb-4f0a-ad25-aeba78d23e32",
   "metadata": {},
   "source": [
    "# Stacking Along Rows\n",
    "# hstack horizontal stack"
   ]
  },
  {
   "cell_type": "code",
   "execution_count": 213,
   "id": "9b5ce397-6935-4a99-b82c-53c51194307b",
   "metadata": {},
   "outputs": [
    {
     "data": {
      "text/plain": [
       "array([1, 2, 3, 4, 5, 6])"
      ]
     },
     "execution_count": 213,
     "metadata": {},
     "output_type": "execute_result"
    }
   ],
   "source": [
    "arr1 = np.array([1, 2, 3])\n",
    "arr2 = np.array([4, 5, 6])\n",
    "np.hstack((arr1, arr2))"
   ]
  },
  {
   "cell_type": "markdown",
   "id": "d043c02e-eea1-4323-bb20-2df16ee68cbd",
   "metadata": {},
   "source": [
    "# Stacking Along Columns\n",
    "# vstack vertical stack"
   ]
  },
  {
   "cell_type": "code",
   "execution_count": 214,
   "id": "07bc2e44-8861-477b-88d8-0392c2fc55fb",
   "metadata": {},
   "outputs": [
    {
     "data": {
      "text/plain": [
       "array([[1, 2, 3],\n",
       "       [4, 5, 6]])"
      ]
     },
     "execution_count": 214,
     "metadata": {},
     "output_type": "execute_result"
    }
   ],
   "source": [
    "arr1 = np.array([1, 2, 3])\n",
    "arr2 = np.array([4, 5, 6])\n",
    "np.vstack((arr1, arr2))"
   ]
  },
  {
   "cell_type": "code",
   "execution_count": 216,
   "id": "61855d12-b5c6-40be-82ae-8d09b6fc54d3",
   "metadata": {},
   "outputs": [
    {
     "data": {
      "text/plain": [
       "array([[1, 2, 3],\n",
       "       [1, 1, 1],\n",
       "       [4, 5, 6],\n",
       "       [2, 2, 2]])"
      ]
     },
     "execution_count": 216,
     "metadata": {},
     "output_type": "execute_result"
    }
   ],
   "source": [
    "arr1 = np.array([[1, 2, 3], [1, 1, 1]])\n",
    "arr2 = np.array([[4, 5, 6], [2, 2, 2]])\n",
    "np.vstack((arr1, arr2))"
   ]
  },
  {
   "cell_type": "code",
   "execution_count": 217,
   "id": "8c4e6951-a118-4ec2-87a3-b44b24584674",
   "metadata": {},
   "outputs": [
    {
     "data": {
      "text/plain": [
       "array([[1, 2, 3, 4, 5, 6],\n",
       "       [1, 1, 1, 2, 2, 2]])"
      ]
     },
     "execution_count": 217,
     "metadata": {},
     "output_type": "execute_result"
    }
   ],
   "source": [
    "np.hstack((arr1, arr2))"
   ]
  },
  {
   "cell_type": "markdown",
   "id": "4a4b8598-4e44-415b-9398-277d32c4949d",
   "metadata": {},
   "source": [
    "# Stacking Along Height (depth)"
   ]
  },
  {
   "cell_type": "code",
   "execution_count": 218,
   "id": "cc693d5d-9df6-47d9-a6b5-5b91c875b453",
   "metadata": {},
   "outputs": [
    {
     "data": {
      "text/plain": [
       "array([[[1, 4],\n",
       "        [2, 5],\n",
       "        [3, 6]]])"
      ]
     },
     "execution_count": 218,
     "metadata": {},
     "output_type": "execute_result"
    }
   ],
   "source": [
    "arr1 = np.array([1, 2, 3])\n",
    "arr2 = np.array([4, 5, 6])\n",
    "np.dstack((arr1, arr2)) # 0 in arr1 with 0 in arr2 : 1 in arr1 with 1 in arr2"
   ]
  },
  {
   "cell_type": "markdown",
   "id": "d142b5c7-7846-4905-bec7-ef0c7accd9f2",
   "metadata": {},
   "source": [
    "# Search Arrays"
   ]
  },
  {
   "cell_type": "markdown",
   "id": "f28bbe03-590a-4f34-885e-54d006d0dcb4",
   "metadata": {},
   "source": [
    "# where"
   ]
  },
  {
   "cell_type": "code",
   "execution_count": 220,
   "id": "e7913708-15ba-40b1-8ad7-cafaf77574c9",
   "metadata": {},
   "outputs": [
    {
     "data": {
      "text/plain": [
       "array([1, 2, 3])"
      ]
     },
     "execution_count": 220,
     "metadata": {},
     "output_type": "execute_result"
    }
   ],
   "source": [
    "arr1"
   ]
  },
  {
   "cell_type": "code",
   "execution_count": 221,
   "id": "f1547160-f43e-4604-9a5d-f37693418433",
   "metadata": {},
   "outputs": [
    {
     "data": {
      "text/plain": [
       "(array([1], dtype=int64),)"
      ]
     },
     "execution_count": 221,
     "metadata": {},
     "output_type": "execute_result"
    }
   ],
   "source": [
    "np.where(arr1==2) # return a list of indexes"
   ]
  },
  {
   "cell_type": "code",
   "execution_count": 222,
   "id": "6e7b5715-891e-41e6-983a-537962d8238d",
   "metadata": {},
   "outputs": [
    {
     "data": {
      "text/plain": [
       "(array([3, 5, 6], dtype=int64),)"
      ]
     },
     "execution_count": 222,
     "metadata": {},
     "output_type": "execute_result"
    }
   ],
   "source": [
    "arr=np.array([1, 2, 3, 4, 5, 4, 4]) \n",
    "np.where(arr == 4)"
   ]
  },
  {
   "cell_type": "code",
   "execution_count": 223,
   "id": "aa9f71b4-99e6-4a0f-aad8-980722ef218f",
   "metadata": {},
   "outputs": [
    {
     "data": {
      "text/plain": [
       "(array([0, 2, 4, 6], dtype=int64),)"
      ]
     },
     "execution_count": 223,
     "metadata": {},
     "output_type": "execute_result"
    }
   ],
   "source": [
    "arr = np.array([1, 2, 3, 4, 5, 6, 7, 8])\n",
    "np.where(arr%2 == 1) # odd numbers"
   ]
  },
  {
   "cell_type": "markdown",
   "id": "194d9b01-e8fa-4327-834e-76f8a795a983",
   "metadata": {},
   "source": [
    "# Search Sorted\n",
    "# searchsorted\n",
    "# searchsorted performs a binary search in the array, and returns the index where the specified value would be inserted to maintain the search order."
   ]
  },
  {
   "cell_type": "code",
   "execution_count": 224,
   "id": "fdaffce7-c346-4805-8d5f-0bd7149956ef",
   "metadata": {},
   "outputs": [
    {
     "data": {
      "text/plain": [
       "1"
      ]
     },
     "execution_count": 224,
     "metadata": {},
     "output_type": "execute_result"
    }
   ],
   "source": [
    "arr = np.array([6, 7, 8, 9]) # default search from the left\n",
    "np.searchsorted(arr, 7)"
   ]
  },
  {
   "cell_type": "code",
   "execution_count": 225,
   "id": "7e38f767-0492-4f92-9492-35b69f17d567",
   "metadata": {},
   "outputs": [
    {
     "data": {
      "text/plain": [
       "2"
      ]
     },
     "execution_count": 225,
     "metadata": {},
     "output_type": "execute_result"
    }
   ],
   "source": [
    "arr = np.array([6, 7, 8, 9])\n",
    "np.searchsorted(arr, 7, side='right') # search from right side"
   ]
  },
  {
   "cell_type": "markdown",
   "id": "e0dc2731-a42c-43a9-9ef5-aeeeee763496",
   "metadata": {},
   "source": [
    "# Multiple Values\n",
    "# Find the indexes where the values 2, 4, and 6 should be inserted:"
   ]
  },
  {
   "cell_type": "code",
   "execution_count": 226,
   "id": "ab77d7ba-c0b8-475e-8a00-cbb88f41730d",
   "metadata": {},
   "outputs": [
    {
     "data": {
      "text/plain": [
       "array([1, 2, 3], dtype=int64)"
      ]
     },
     "execution_count": 226,
     "metadata": {},
     "output_type": "execute_result"
    }
   ],
   "source": [
    "arr = np.array([1, 3, 5, 7])\n",
    "np.searchsorted(arr, [2, 4, 6])"
   ]
  },
  {
   "cell_type": "markdown",
   "id": "4f7286e9-c8f1-49c9-80ee-0cadaf53a6fa",
   "metadata": {},
   "source": [
    "# The return value is an array: [1 2 3] containing the three indexes where 2, 4, 6 would be inserted in the original array to maintain the order."
   ]
  },
  {
   "cell_type": "markdown",
   "id": "3c73dda0-ad40-43f1-a257-4aa25105c080",
   "metadata": {},
   "source": [
    "# Sorting Arrays\n",
    "# Sorting means putting elements in an ordered sequence."
   ]
  },
  {
   "cell_type": "code",
   "execution_count": 227,
   "id": "58a90b3d-ba44-4029-b69e-f2566f768336",
   "metadata": {},
   "outputs": [
    {
     "data": {
      "text/plain": [
       "array([0, 1, 2, 3])"
      ]
     },
     "execution_count": 227,
     "metadata": {},
     "output_type": "execute_result"
    }
   ],
   "source": [
    "arr = np.array([3, 2, 0, 1])\n",
    "np.sort(arr)"
   ]
  },
  {
   "cell_type": "markdown",
   "id": "01d7420e-a511-441d-a083-ded58d811721",
   "metadata": {},
   "source": [
    "# Create an array from the elements on index 0 and 2:"
   ]
  },
  {
   "cell_type": "code",
   "execution_count": 228,
   "id": "021636f7-c10c-4f07-850b-c20be067d13a",
   "metadata": {},
   "outputs": [
    {
     "data": {
      "text/plain": [
       "array([False,  True,  True])"
      ]
     },
     "execution_count": 228,
     "metadata": {},
     "output_type": "execute_result"
    }
   ],
   "source": [
    "arr = np.array([True, False, True])\n",
    "np.sort(arr)"
   ]
  },
  {
   "cell_type": "markdown",
   "id": "3bbefc92-31b7-4005-b404-ac2aafbc4012",
   "metadata": {},
   "source": [
    "# Sorting a 2-D Array"
   ]
  },
  {
   "cell_type": "code",
   "execution_count": 229,
   "id": "9d2ece72-63ae-4974-bd29-3c9ac66eb4c3",
   "metadata": {},
   "outputs": [
    {
     "data": {
      "text/plain": [
       "array([[2, 3, 4],\n",
       "       [0, 1, 5]])"
      ]
     },
     "execution_count": 229,
     "metadata": {},
     "output_type": "execute_result"
    }
   ],
   "source": [
    "arr = np.array([[3, 2, 4], [5, 0, 1]]) # sort each list\n",
    "np.sort(arr)"
   ]
  },
  {
   "cell_type": "markdown",
   "id": "3efee850-96a1-424c-9107-1ce32e50ec92",
   "metadata": {},
   "source": [
    "# Filtering Arrays\n",
    "# If the value at an index is True that element is contained in the filtered array, if the value at that index is False that element is excluded from the filtered array."
   ]
  },
  {
   "cell_type": "code",
   "execution_count": 230,
   "id": "2e85326f-ad22-4450-aeac-a92672612aaa",
   "metadata": {},
   "outputs": [
    {
     "data": {
      "text/plain": [
       "array([41, 43])"
      ]
     },
     "execution_count": 230,
     "metadata": {},
     "output_type": "execute_result"
    }
   ],
   "source": [
    "arr = np.array([41, 42, 43, 44])\n",
    "x = [True, False, True, False]\n",
    "arr[x]"
   ]
  },
  {
   "cell_type": "markdown",
   "id": "274a6ade-6fae-4258-8b19-971d62a9c0df",
   "metadata": {},
   "source": [
    "# Create a filter array that will return only values higher than 42:"
   ]
  },
  {
   "cell_type": "code",
   "execution_count": 231,
   "id": "04d460bc-28b3-4668-9f01-12ea7d5163f4",
   "metadata": {},
   "outputs": [
    {
     "data": {
      "text/plain": [
       "array([43, 44])"
      ]
     },
     "execution_count": 231,
     "metadata": {},
     "output_type": "execute_result"
    }
   ],
   "source": [
    "arr = np.array([41, 42, 43, 44])\n",
    "# Create an empty list\n",
    "filter_arr = []\n",
    "# go through each element in arr\n",
    "for element in arr:\n",
    "  # if the element is higher than 42, set the value to True, otherwise False:\n",
    "  if element > 42:\n",
    "    filter_arr.append(True)\n",
    "  else:\n",
    "    filter_arr.append(False)\n",
    "arr[filter_arr]"
   ]
  },
  {
   "cell_type": "markdown",
   "id": "d2604fa3-59db-4f11-ba39-6b1eabd64115",
   "metadata": {},
   "source": [
    "# Create a filter array that will return only even elements from the original array:"
   ]
  },
  {
   "cell_type": "code",
   "execution_count": 232,
   "id": "c242768b-5933-443f-a666-2e2def519d67",
   "metadata": {},
   "outputs": [
    {
     "data": {
      "text/plain": [
       "array([42, 44])"
      ]
     },
     "execution_count": 232,
     "metadata": {},
     "output_type": "execute_result"
    }
   ],
   "source": [
    "arr = np.array([41, 42, 43, 44])\n",
    "even_checker_filter=[]\n",
    "for ele in arr:\n",
    "    if ele%2==0:\n",
    "        even_checker_filter.append(True)\n",
    "    else:\n",
    "        even_checker_filter.append(False)\n",
    "arr[even_checker_filter] # Match arrays with each other"
   ]
  },
  {
   "cell_type": "code",
   "execution_count": 233,
   "id": "afc9bc07-afe8-4866-b8e6-96d81cb2e7da",
   "metadata": {},
   "outputs": [
    {
     "data": {
      "text/plain": [
       "array([42, 44])"
      ]
     },
     "execution_count": 233,
     "metadata": {},
     "output_type": "execute_result"
    }
   ],
   "source": [
    "arr[arr%2==0] # Just it such as where statement"
   ]
  },
  {
   "cell_type": "code",
   "execution_count": 234,
   "id": "464e8861-18b3-4324-94b8-16a9c2c3abe4",
   "metadata": {},
   "outputs": [
    {
     "data": {
      "text/plain": [
       "array([43, 44])"
      ]
     },
     "execution_count": 234,
     "metadata": {},
     "output_type": "execute_result"
    }
   ],
   "source": [
    "arr[arr>42] # Simple"
   ]
  },
  {
   "cell_type": "markdown",
   "id": "4677641c-b1a7-4666-b519-0307c3d2c931",
   "metadata": {},
   "source": [
    "# Array Split"
   ]
  },
  {
   "cell_type": "code",
   "execution_count": 235,
   "id": "a5455aa7-4b57-4cf0-9d41-6d9e96e0de9e",
   "metadata": {},
   "outputs": [
    {
     "data": {
      "text/plain": [
       "[array([1, 2]), array([3, 4]), array([5, 6])]"
      ]
     },
     "execution_count": 235,
     "metadata": {},
     "output_type": "execute_result"
    }
   ],
   "source": [
    "arr = np.array([1, 2, 3, 4, 5, 6])\n",
    "np.array_split(arr, 3) # Number of splitted parts"
   ]
  },
  {
   "cell_type": "code",
   "execution_count": 236,
   "id": "92416ede-3cfc-4161-ac49-84c072400cf1",
   "metadata": {},
   "outputs": [],
   "source": [
    "x = np.array_split(arr, 3)"
   ]
  },
  {
   "cell_type": "code",
   "execution_count": 237,
   "id": "55ac9b32-1169-4060-be27-ec2d8c22da4a",
   "metadata": {},
   "outputs": [
    {
     "data": {
      "text/plain": [
       "[array([1, 2]), array([3, 4]), array([5, 6])]"
      ]
     },
     "execution_count": 237,
     "metadata": {},
     "output_type": "execute_result"
    }
   ],
   "source": [
    "x"
   ]
  },
  {
   "cell_type": "code",
   "execution_count": 238,
   "id": "5d8a9c2c-88da-4261-9702-a9c7130a5b98",
   "metadata": {},
   "outputs": [
    {
     "data": {
      "text/plain": [
       "array([1, 2])"
      ]
     },
     "execution_count": 238,
     "metadata": {},
     "output_type": "execute_result"
    }
   ],
   "source": [
    "x[0]"
   ]
  },
  {
   "cell_type": "code",
   "execution_count": 239,
   "id": "d1a14db3-47d4-4b44-b5f6-1022fc47362d",
   "metadata": {},
   "outputs": [
    {
     "data": {
      "text/plain": [
       "1"
      ]
     },
     "execution_count": 239,
     "metadata": {},
     "output_type": "execute_result"
    }
   ],
   "source": [
    "x[0][0]"
   ]
  },
  {
   "cell_type": "code",
   "execution_count": 240,
   "id": "1800b37b-4fbf-4c30-ae32-d5fbe47023dd",
   "metadata": {},
   "outputs": [
    {
     "data": {
      "text/plain": [
       "[array([1, 2]), array([3, 4]), array([5]), array([6])]"
      ]
     },
     "execution_count": 240,
     "metadata": {},
     "output_type": "execute_result"
    }
   ],
   "source": [
    "arr = np.array([1, 2, 3, 4, 5, 6])\n",
    "np.array_split(arr, 4)"
   ]
  },
  {
   "cell_type": "markdown",
   "id": "158d06cb-ee97-4738-80cd-0ccb3f9c9602",
   "metadata": {},
   "source": [
    "# Note: We also have the method split() available but it will not adjust the elements when elements are less in source array for splitting like in example above, array_split() worked properly but split() would fail."
   ]
  },
  {
   "cell_type": "code",
   "execution_count": 241,
   "id": "e07e8c82-3ccb-4c38-9120-1892ecf93b24",
   "metadata": {},
   "outputs": [
    {
     "data": {
      "text/plain": [
       "[array([1, 2]), array([3, 4]), array([5, 6])]"
      ]
     },
     "execution_count": 241,
     "metadata": {},
     "output_type": "execute_result"
    }
   ],
   "source": [
    "arr = np.array([1, 2, 3, 4, 5, 6])\n",
    "np.array_split(arr, 3)"
   ]
  },
  {
   "cell_type": "markdown",
   "id": "8fe56571-9ee6-47ea-9263-bfb41872072f",
   "metadata": {},
   "source": [
    "# Splitting 2-D Arrays"
   ]
  },
  {
   "cell_type": "code",
   "execution_count": 242,
   "id": "c0d33343-cf20-40a0-a312-c1a5457648cb",
   "metadata": {},
   "outputs": [
    {
     "data": {
      "text/plain": [
       "[array([[1, 2],\n",
       "        [3, 4]]),\n",
       " array([[5, 6],\n",
       "        [7, 8]]),\n",
       " array([[ 9, 10],\n",
       "        [11, 12]])]"
      ]
     },
     "execution_count": 242,
     "metadata": {},
     "output_type": "execute_result"
    }
   ],
   "source": [
    "arr = np.array([[1, 2], [3, 4], [5, 6], [7, 8], [9, 10], [11, 12]])\n",
    "np.array_split(arr, 3)"
   ]
  },
  {
   "cell_type": "markdown",
   "id": "f5c4dd18-e141-45e6-9d3c-59fef48dba55",
   "metadata": {},
   "source": [
    "# The example above returns three 2-D arrays."
   ]
  },
  {
   "cell_type": "code",
   "execution_count": 243,
   "id": "78f1e678-abed-41d9-80c5-6320fd687ad6",
   "metadata": {},
   "outputs": [
    {
     "data": {
      "text/plain": [
       "[array([[1, 2, 3],\n",
       "        [4, 5, 6]]),\n",
       " array([[ 7,  8,  9],\n",
       "        [10, 11, 12]]),\n",
       " array([[13, 14, 15],\n",
       "        [16, 17, 18]])]"
      ]
     },
     "execution_count": 243,
     "metadata": {},
     "output_type": "execute_result"
    }
   ],
   "source": [
    "arr = np.array([[1, 2, 3], [4, 5, 6], [7, 8, 9], [10, 11, 12], [13, 14, 15], [16, 17, 18]])\n",
    "np.array_split(arr, 3)"
   ]
  },
  {
   "cell_type": "code",
   "execution_count": 244,
   "id": "f1f906b4-584d-45a1-978e-43c101f6805e",
   "metadata": {},
   "outputs": [
    {
     "data": {
      "text/plain": [
       "[array([[ 1],\n",
       "        [ 4],\n",
       "        [ 7],\n",
       "        [10],\n",
       "        [13],\n",
       "        [16]]),\n",
       " array([[ 2],\n",
       "        [ 5],\n",
       "        [ 8],\n",
       "        [11],\n",
       "        [14],\n",
       "        [17]]),\n",
       " array([[ 3],\n",
       "        [ 6],\n",
       "        [ 9],\n",
       "        [12],\n",
       "        [15],\n",
       "        [18]])]"
      ]
     },
     "execution_count": 244,
     "metadata": {},
     "output_type": "execute_result"
    }
   ],
   "source": [
    "arr = np.array([[1, 2, 3], [4, 5, 6], [7, 8, 9], [10, 11, 12], [13, 14, 15], [16, 17, 18]])\n",
    "np.array_split(arr, 3, axis=1)"
   ]
  },
  {
   "cell_type": "code",
   "execution_count": 245,
   "id": "40a54d86-a409-449b-b5eb-b414eeb85de4",
   "metadata": {},
   "outputs": [
    {
     "data": {
      "text/plain": [
       "[array([[ 1],\n",
       "        [ 4],\n",
       "        [ 7],\n",
       "        [10],\n",
       "        [13],\n",
       "        [16]]),\n",
       " array([[ 2],\n",
       "        [ 5],\n",
       "        [ 8],\n",
       "        [11],\n",
       "        [14],\n",
       "        [17]]),\n",
       " array([[ 3],\n",
       "        [ 6],\n",
       "        [ 9],\n",
       "        [12],\n",
       "        [15],\n",
       "        [18]])]"
      ]
     },
     "execution_count": 245,
     "metadata": {},
     "output_type": "execute_result"
    }
   ],
   "source": [
    "arr = np.array([[1, 2, 3], [4, 5, 6], [7, 8, 9], [10, 11, 12], [13, 14, 15], [16, 17, 18]])\n",
    "np.hsplit(arr, 3) # Take corresponding columns in all rows"
   ]
  },
  {
   "cell_type": "code",
   "execution_count": 247,
   "id": "53964388-9e22-4988-b4bb-60e6a9ce2995",
   "metadata": {},
   "outputs": [
    {
     "data": {
      "text/plain": [
       "array([[ 1,  2,  3],\n",
       "       [ 4,  5,  6],\n",
       "       [ 7,  8,  9],\n",
       "       [10, 11, 12],\n",
       "       [13, 14, 15],\n",
       "       [16, 17, 18]])"
      ]
     },
     "execution_count": 247,
     "metadata": {},
     "output_type": "execute_result"
    }
   ],
   "source": [
    "arr = np.array([[1, 2, 3], [4, 5, 6], [7, 8, 9], [10, 11, 12], [13, 14, 15], [16, 17, 18]])\n",
    "arr"
   ]
  },
  {
   "cell_type": "code",
   "execution_count": 248,
   "id": "b7c8aee6-469e-44a1-8040-6cc51fe89a80",
   "metadata": {},
   "outputs": [
    {
     "data": {
      "text/plain": [
       "[array([[1, 2, 3],\n",
       "        [4, 5, 6]]),\n",
       " array([[ 7,  8,  9],\n",
       "        [10, 11, 12]]),\n",
       " array([[13, 14, 15],\n",
       "        [16, 17, 18]])]"
      ]
     },
     "execution_count": 248,
     "metadata": {},
     "output_type": "execute_result"
    }
   ],
   "source": [
    "np.vsplit(arr, 3)"
   ]
  },
  {
   "cell_type": "code",
   "execution_count": null,
   "id": "a3339d67-5056-47bf-90ab-2677c7fe5d7f",
   "metadata": {},
   "outputs": [],
   "source": []
  }
 ],
 "metadata": {
  "kernelspec": {
   "display_name": "Python 3 (ipykernel)",
   "language": "python",
   "name": "python3"
  },
  "language_info": {
   "codemirror_mode": {
    "name": "ipython",
    "version": 3
   },
   "file_extension": ".py",
   "mimetype": "text/x-python",
   "name": "python",
   "nbconvert_exporter": "python",
   "pygments_lexer": "ipython3",
   "version": "3.10.1"
  }
 },
 "nbformat": 4,
 "nbformat_minor": 5
}
