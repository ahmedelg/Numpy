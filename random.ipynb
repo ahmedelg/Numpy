{
 "cells": [
  {
   "cell_type": "markdown",
   "id": "0e1e5b15-9a97-4284-967f-0393d5e042d1",
   "metadata": {},
   "source": [
    "# Numpy Random"
   ]
  },
  {
   "cell_type": "markdown",
   "id": "ba3f2fbc-3c67-4211-8554-7bbb72b819c7",
   "metadata": {},
   "source": [
    "# Random\n",
    "# Random number does NOT mean a different number every time. Random means something that can not be predicted logically.\n",
    "# Not Standard - Non logically expected"
   ]
  },
  {
   "cell_type": "markdown",
   "id": "e84b9476-76e4-40f0-90b7-d2a51cc81a1a",
   "metadata": {},
   "source": [
    "# Computers work on programs, and programs are definitive set of instructions. So it means there must be some algorithm to generate a random number as well.\n",
    "\n",
    "# If there is a program to generate random number it can be predicted, thus it is not truly random.\n",
    "\n",
    "# Random numbers generated through a `generation algorithm` are called `pseudo random`.\n",
    "\n",
    "# Can we make truly random numbers?\n",
    "# Yes. In order to generate a truly random number on our computers we need to get the random data from some `outside source`. This outside source is generally our `keystrokes`, `mouse movements`, `data on network` etc.\n",
    "\n",
    "# We do not need truly random numbers, unless its related to security (e.g. encryption keys) or the basis of application is the randomness (e.g. Digital roulette wheels)."
   ]
  },
  {
   "cell_type": "code",
   "execution_count": 1,
   "id": "7066d575-ff6b-4cbf-b6eb-e48be719aa20",
   "metadata": {},
   "outputs": [],
   "source": [
    "from numpy import random"
   ]
  },
  {
   "cell_type": "markdown",
   "id": "bace7e8b-0773-41f0-845f-231060ab37d6",
   "metadata": {},
   "source": [
    "# x = random.randint(100)"
   ]
  },
  {
   "cell_type": "markdown",
   "id": "68f1469d-a8ad-43b8-b5a4-52f40da48029",
   "metadata": {},
   "source": [
    "# Random Number"
   ]
  },
  {
   "cell_type": "code",
   "execution_count": 2,
   "id": "dbfe46e1-b270-4bbe-842d-a58ff3a6479c",
   "metadata": {},
   "outputs": [
    {
     "data": {
      "text/plain": [
       "25"
      ]
     },
     "execution_count": 2,
     "metadata": {},
     "output_type": "execute_result"
    }
   ],
   "source": [
    "random.randint(100)"
   ]
  },
  {
   "cell_type": "code",
   "execution_count": 3,
   "id": "8a0d5e83-b8ec-4f15-9127-36ae06e7e135",
   "metadata": {},
   "outputs": [
    {
     "data": {
      "text/plain": [
       "1"
      ]
     },
     "execution_count": 3,
     "metadata": {},
     "output_type": "execute_result"
    }
   ],
   "source": [
    "random.randint(100)"
   ]
  },
  {
   "cell_type": "code",
   "execution_count": 4,
   "id": "b9d2df48-e3e2-472e-98e0-8122fab74401",
   "metadata": {},
   "outputs": [
    {
     "data": {
      "text/plain": [
       "55"
      ]
     },
     "execution_count": 4,
     "metadata": {},
     "output_type": "execute_result"
    }
   ],
   "source": [
    "random.randint(100)"
   ]
  },
  {
   "cell_type": "code",
   "execution_count": 5,
   "id": "f96d5f77-1fd9-40d5-ba42-5154579d28c8",
   "metadata": {},
   "outputs": [
    {
     "data": {
      "text/plain": [
       "31"
      ]
     },
     "execution_count": 5,
     "metadata": {},
     "output_type": "execute_result"
    }
   ],
   "source": [
    "random.randint(100)"
   ]
  },
  {
   "cell_type": "code",
   "execution_count": 6,
   "id": "e86f90da-f7fa-4047-a4cf-d364a4e01d69",
   "metadata": {},
   "outputs": [
    {
     "data": {
      "text/plain": [
       "96"
      ]
     },
     "execution_count": 6,
     "metadata": {},
     "output_type": "execute_result"
    }
   ],
   "source": [
    "random.randint(100)"
   ]
  },
  {
   "cell_type": "code",
   "execution_count": 7,
   "id": "6fa87833-88be-4594-b1c8-fd737e6c6e4b",
   "metadata": {},
   "outputs": [
    {
     "data": {
      "text/plain": [
       "3"
      ]
     },
     "execution_count": 7,
     "metadata": {},
     "output_type": "execute_result"
    }
   ],
   "source": [
    "random.randint(100)"
   ]
  },
  {
   "cell_type": "code",
   "execution_count": 8,
   "id": "6b8d9681-14a1-4bb5-a3e1-a09dab251d58",
   "metadata": {},
   "outputs": [
    {
     "data": {
      "text/plain": [
       "30"
      ]
     },
     "execution_count": 8,
     "metadata": {},
     "output_type": "execute_result"
    }
   ],
   "source": [
    "random.randint(100)"
   ]
  },
  {
   "cell_type": "code",
   "execution_count": 9,
   "id": "f88c6b74-fd1e-498c-99c1-c26375798c89",
   "metadata": {},
   "outputs": [
    {
     "data": {
      "text/plain": [
       "2"
      ]
     },
     "execution_count": 9,
     "metadata": {},
     "output_type": "execute_result"
    }
   ],
   "source": [
    "random.randint(100)"
   ]
  },
  {
   "cell_type": "code",
   "execution_count": 10,
   "id": "7cf0b37a-3c8e-4b52-b4b0-dd8165f33e09",
   "metadata": {},
   "outputs": [
    {
     "data": {
      "text/plain": [
       "35"
      ]
     },
     "execution_count": 10,
     "metadata": {},
     "output_type": "execute_result"
    }
   ],
   "source": [
    "random.randint(100)"
   ]
  },
  {
   "cell_type": "code",
   "execution_count": 11,
   "id": "a5eba0ef-c28a-443d-b7f2-33bf26f6f9e9",
   "metadata": {},
   "outputs": [
    {
     "data": {
      "text/plain": [
       "96"
      ]
     },
     "execution_count": 11,
     "metadata": {},
     "output_type": "execute_result"
    }
   ],
   "source": [
    "random.randint(100)"
   ]
  },
  {
   "cell_type": "code",
   "execution_count": 12,
   "id": "fbf3a7cd-a54c-40c6-8360-6f5fbb814400",
   "metadata": {},
   "outputs": [
    {
     "data": {
      "text/plain": [
       "54"
      ]
     },
     "execution_count": 12,
     "metadata": {},
     "output_type": "execute_result"
    }
   ],
   "source": [
    "random.randint(100)"
   ]
  },
  {
   "cell_type": "markdown",
   "id": "c7b5b2e0-3a60-4031-ace8-7f3d5be62787",
   "metadata": {},
   "source": [
    "# Random Float"
   ]
  },
  {
   "cell_type": "markdown",
   "id": "e17029f5-a417-4f8c-94ad-40e2350b7045",
   "metadata": {},
   "source": [
    "# Generate a random float from 0 to 1:"
   ]
  },
  {
   "cell_type": "code",
   "execution_count": 13,
   "id": "7c956443-4875-485e-875a-267dc6e53676",
   "metadata": {},
   "outputs": [
    {
     "data": {
      "text/plain": [
       "0.0826695984676854"
      ]
     },
     "execution_count": 13,
     "metadata": {},
     "output_type": "execute_result"
    }
   ],
   "source": [
    "random.rand()"
   ]
  },
  {
   "cell_type": "code",
   "execution_count": 14,
   "id": "c2702d58-b2c6-4eae-b3bc-83337a3d66c2",
   "metadata": {},
   "outputs": [
    {
     "data": {
      "text/plain": [
       "0.005886385576041708"
      ]
     },
     "execution_count": 14,
     "metadata": {},
     "output_type": "execute_result"
    }
   ],
   "source": [
    "random.rand()"
   ]
  },
  {
   "cell_type": "code",
   "execution_count": 15,
   "id": "80f4c274-0ff5-48fe-af31-f502463dd9e7",
   "metadata": {},
   "outputs": [
    {
     "data": {
      "text/plain": [
       "0.2717193368553549"
      ]
     },
     "execution_count": 15,
     "metadata": {},
     "output_type": "execute_result"
    }
   ],
   "source": [
    "random.rand()"
   ]
  },
  {
   "cell_type": "code",
   "execution_count": 16,
   "id": "bd9c0848-c043-42b0-bab3-3da9b22d5f5e",
   "metadata": {},
   "outputs": [
    {
     "data": {
      "text/plain": [
       "0.5267487956891903"
      ]
     },
     "execution_count": 16,
     "metadata": {},
     "output_type": "execute_result"
    }
   ],
   "source": [
    "random.rand()"
   ]
  },
  {
   "cell_type": "markdown",
   "id": "b0eb71fe-8b36-461b-9fbb-fdf4b9f8f1eb",
   "metadata": {},
   "source": [
    "# Random Float Array"
   ]
  },
  {
   "cell_type": "code",
   "execution_count": 18,
   "id": "e6050bc6-f70f-47b2-9448-085ac68cab40",
   "metadata": {},
   "outputs": [
    {
     "data": {
      "text/plain": [
       "array([0.40092774, 0.09475891, 0.35982432, 0.40698258, 0.64227626])"
      ]
     },
     "execution_count": 18,
     "metadata": {},
     "output_type": "execute_result"
    }
   ],
   "source": [
    "random.rand(5)"
   ]
  },
  {
   "cell_type": "markdown",
   "id": "585e6d64-4e1a-44f1-af0b-015c52e74f37",
   "metadata": {},
   "source": [
    "# Random Array"
   ]
  },
  {
   "cell_type": "code",
   "execution_count": 17,
   "id": "a2f113b7-4153-4c3a-b90d-1e6f76d1d198",
   "metadata": {},
   "outputs": [
    {
     "data": {
      "text/plain": [
       "array([ 2,  4, 52, 88, 28])"
      ]
     },
     "execution_count": 17,
     "metadata": {},
     "output_type": "execute_result"
    }
   ],
   "source": [
    "random.randint(100, size=(5))"
   ]
  },
  {
   "cell_type": "code",
   "execution_count": 19,
   "id": "46f08107-fedd-431b-8a09-dfaa704941da",
   "metadata": {},
   "outputs": [
    {
     "data": {
      "text/plain": [
       "array([2, 4, 2, 1, 0])"
      ]
     },
     "execution_count": 19,
     "metadata": {},
     "output_type": "execute_result"
    }
   ],
   "source": [
    "random.randint(5, size=(5))"
   ]
  },
  {
   "cell_type": "code",
   "execution_count": 20,
   "id": "32a1bac0-f7d5-45c2-a7f7-4feef22d5e50",
   "metadata": {},
   "outputs": [
    {
     "data": {
      "text/plain": [
       "array([0, 4, 0, 0, 2])"
      ]
     },
     "execution_count": 20,
     "metadata": {},
     "output_type": "execute_result"
    }
   ],
   "source": [
    "random.randint(5, size=(5))"
   ]
  },
  {
   "cell_type": "code",
   "execution_count": 21,
   "id": "70d6f212-597f-43e0-a839-e806e81b1b7f",
   "metadata": {},
   "outputs": [
    {
     "data": {
      "text/plain": [
       "array([0, 0, 1, 1, 1])"
      ]
     },
     "execution_count": 21,
     "metadata": {},
     "output_type": "execute_result"
    }
   ],
   "source": [
    "random.randint(5, size=(5))"
   ]
  },
  {
   "cell_type": "markdown",
   "id": "225999ee-1cde-4e7c-89f0-fd1fcb12877a",
   "metadata": {},
   "source": [
    "# Generate a 2-D array with 3 rows, each row containing 5 random integers from 0 to 100:"
   ]
  },
  {
   "cell_type": "code",
   "execution_count": 23,
   "id": "79785713-86aa-4944-84d4-75ea6bbfc4cc",
   "metadata": {},
   "outputs": [
    {
     "data": {
      "text/plain": [
       "array([[65, 70, 19],\n",
       "       [48, 28, 85]])"
      ]
     },
     "execution_count": 23,
     "metadata": {},
     "output_type": "execute_result"
    }
   ],
   "source": [
    "random.randint(100, size=(2, 3))"
   ]
  },
  {
   "cell_type": "markdown",
   "id": "3092c414-f698-46dd-a081-b799228d9813",
   "metadata": {},
   "source": [
    "# Generate a 2-D array with 3 rows, each row containing 5 random numbers:"
   ]
  },
  {
   "cell_type": "code",
   "execution_count": 22,
   "id": "43ab135b-51e7-44f9-b021-e2c0f7f1e2aa",
   "metadata": {},
   "outputs": [
    {
     "data": {
      "text/plain": [
       "array([[0.36266711, 0.29541527, 0.26998041, 0.41114692, 0.98792957],\n",
       "       [0.73786316, 0.41697356, 0.28868523, 0.25077575, 0.7758671 ],\n",
       "       [0.37062206, 0.23402567, 0.96010519, 0.7615874 , 0.25990403]])"
      ]
     },
     "execution_count": 22,
     "metadata": {},
     "output_type": "execute_result"
    }
   ],
   "source": [
    "random.rand(3, 5)"
   ]
  },
  {
   "cell_type": "markdown",
   "id": "009506eb-033b-4074-b069-bc72015b6365",
   "metadata": {},
   "source": [
    "# Generate 3D Random Array. Generate random array has 3 rows each row has 2 rows each row has 2 elements"
   ]
  },
  {
   "cell_type": "code",
   "execution_count": 24,
   "id": "a7d46181-b757-499c-a696-32fa1e5c1f5f",
   "metadata": {},
   "outputs": [
    {
     "data": {
      "text/plain": [
       "array([[[0.27043919, 0.65885951],\n",
       "        [0.06997787, 0.25827697]],\n",
       "\n",
       "       [[0.26539849, 0.61415405],\n",
       "        [0.7511405 , 0.29532165]],\n",
       "\n",
       "       [[0.25669403, 0.35537762],\n",
       "        [0.50101113, 0.91249505]]])"
      ]
     },
     "execution_count": 24,
     "metadata": {},
     "output_type": "execute_result"
    }
   ],
   "source": [
    "random.rand(3, 2, 2)"
   ]
  },
  {
   "cell_type": "markdown",
   "id": "86c8b1f6-3567-4fb8-9e1f-e21302bf96d1",
   "metadata": {},
   "source": [
    "# Generate Random Number From Array"
   ]
  },
  {
   "cell_type": "markdown",
   "id": "7eb674bb-3ab5-4405-a762-25f10ea2fa09",
   "metadata": {},
   "source": [
    "# Return one of the values in an array:"
   ]
  },
  {
   "cell_type": "code",
   "execution_count": 25,
   "id": "5757273e-f02e-4edd-b306-6ed719372d74",
   "metadata": {},
   "outputs": [
    {
     "data": {
      "text/plain": [
       "5"
      ]
     },
     "execution_count": 25,
     "metadata": {},
     "output_type": "execute_result"
    }
   ],
   "source": [
    "random.choice([3, 5, 7, 9])"
   ]
  },
  {
   "cell_type": "code",
   "execution_count": 26,
   "id": "972d2d43-17e1-4d13-a35e-59bf325ddabb",
   "metadata": {},
   "outputs": [
    {
     "data": {
      "text/plain": [
       "3"
      ]
     },
     "execution_count": 26,
     "metadata": {},
     "output_type": "execute_result"
    }
   ],
   "source": [
    "random.choice([3, 5, 7, 9])"
   ]
  },
  {
   "cell_type": "code",
   "execution_count": 27,
   "id": "0c6e425c-ed85-431f-ba86-f9bc0a372e84",
   "metadata": {},
   "outputs": [
    {
     "data": {
      "text/plain": [
       "7"
      ]
     },
     "execution_count": 27,
     "metadata": {},
     "output_type": "execute_result"
    }
   ],
   "source": [
    "random.choice([3, 5, 7, 9])"
   ]
  },
  {
   "cell_type": "code",
   "execution_count": 28,
   "id": "1870234e-55b5-43fb-b48c-c5cf6c9c7cb5",
   "metadata": {},
   "outputs": [
    {
     "data": {
      "text/plain": [
       "9"
      ]
     },
     "execution_count": 28,
     "metadata": {},
     "output_type": "execute_result"
    }
   ],
   "source": [
    "random.choice([3, 5, 7, 9])"
   ]
  },
  {
   "cell_type": "code",
   "execution_count": 29,
   "id": "a295d6ee-7abe-42f4-801b-109aa0bfa022",
   "metadata": {},
   "outputs": [
    {
     "data": {
      "text/plain": [
       "7"
      ]
     },
     "execution_count": 29,
     "metadata": {},
     "output_type": "execute_result"
    }
   ],
   "source": [
    "random.choice([3, 5, 7, 9])"
   ]
  },
  {
   "cell_type": "markdown",
   "id": "33f82b03-1f3e-42a6-852d-3d5894f7b627",
   "metadata": {},
   "source": [
    "# Generate a 2-D array that consists of the values in the array parameter (3, 5, 7, and 9):"
   ]
  },
  {
   "cell_type": "code",
   "execution_count": 30,
   "id": "8069f99e-fd00-4f78-833b-eb880b42d58c",
   "metadata": {},
   "outputs": [
    {
     "data": {
      "text/plain": [
       "5"
      ]
     },
     "execution_count": 30,
     "metadata": {},
     "output_type": "execute_result"
    }
   ],
   "source": [
    "random.choice([3,5,7,9])"
   ]
  },
  {
   "cell_type": "code",
   "execution_count": 31,
   "id": "2c58eb7d-8ddc-4e77-b317-bcb6b45855db",
   "metadata": {},
   "outputs": [
    {
     "data": {
      "text/plain": [
       "array([3, 7])"
      ]
     },
     "execution_count": 31,
     "metadata": {},
     "output_type": "execute_result"
    }
   ],
   "source": [
    "random.choice([3,5,7,9], size=(2))"
   ]
  },
  {
   "cell_type": "code",
   "execution_count": 32,
   "id": "0e2b530a-8dd9-44a3-85f4-3f6ac2abf333",
   "metadata": {},
   "outputs": [
    {
     "data": {
      "text/plain": [
       "array([3, 9, 9])"
      ]
     },
     "execution_count": 32,
     "metadata": {},
     "output_type": "execute_result"
    }
   ],
   "source": [
    "random.choice([3,5,7,9], size=(3))"
   ]
  },
  {
   "cell_type": "code",
   "execution_count": 33,
   "id": "4cedf8c2-662f-4044-b09a-d8a1d660595c",
   "metadata": {},
   "outputs": [
    {
     "data": {
      "text/plain": [
       "array([[3, 5],\n",
       "       [7, 3],\n",
       "       [5, 9]])"
      ]
     },
     "execution_count": 33,
     "metadata": {},
     "output_type": "execute_result"
    }
   ],
   "source": [
    "random.choice([3,5,7,9], size=(3, 2))"
   ]
  },
  {
   "cell_type": "code",
   "execution_count": 34,
   "id": "d88adf11-d7a1-45be-b9cc-e0fd791daf28",
   "metadata": {},
   "outputs": [
    {
     "data": {
      "text/plain": [
       "array([[7, 5, 5, 3, 3],\n",
       "       [9, 3, 9, 3, 3],\n",
       "       [9, 7, 3, 5, 3]])"
      ]
     },
     "execution_count": 34,
     "metadata": {},
     "output_type": "execute_result"
    }
   ],
   "source": [
    "random.choice([3,5,7,9], size=(3, 5))"
   ]
  },
  {
   "cell_type": "markdown",
   "id": "7fc28455-f438-4dec-bc99-cbc59cbe3283",
   "metadata": {},
   "source": [
    "# Random Data Distribution"
   ]
  },
  {
   "cell_type": "markdown",
   "id": "75ad96ea-87ad-4d9a-8a32-2b2f66ef3c32",
   "metadata": {},
   "source": [
    "# Data Distribution is a list of all possible values, and how often each value occurs.\n",
    "# Such lists are important when working with statistics and data science.\n",
    "# The random module offer methods that returns randomly generated data distributions."
   ]
  },
  {
   "cell_type": "markdown",
   "id": "2d697baf-7e69-43b2-ac5f-14dc2558efd8",
   "metadata": {},
   "source": [
    "# A random distribution is a set of random numbers that follow a certain probability density function."
   ]
  },
  {
   "cell_type": "markdown",
   "id": "a7a4a8a4-9d64-46cd-b321-6402c8bc1837",
   "metadata": {},
   "source": [
    "# Probability Density Function: A function that describes a continuous probability. i.e. probability of all values in an array."
   ]
  },
  {
   "cell_type": "markdown",
   "id": "e9281595-e22a-465e-b099-ffdd13400adb",
   "metadata": {},
   "source": [
    "# Generate a 1-D array containing 100 values, where each value has to be 3, 5, 7 or 9."
   ]
  },
  {
   "cell_type": "code",
   "execution_count": 35,
   "id": "3a699f5a-fcaa-4f02-b544-b48527e592b9",
   "metadata": {},
   "outputs": [
    {
     "data": {
      "text/plain": [
       "array([7, 7, 5, 7, 7])"
      ]
     },
     "execution_count": 35,
     "metadata": {},
     "output_type": "execute_result"
    }
   ],
   "source": [
    "random.choice([3,5,7,9], p=[0.1, 0.3, 0.6, 0.0], size=(5))"
   ]
  },
  {
   "cell_type": "code",
   "execution_count": 36,
   "id": "afae1aff-3e83-47ba-9068-00868fe9616b",
   "metadata": {},
   "outputs": [
    {
     "data": {
      "text/plain": [
       "array([7, 7, 7, 5, 7, 3, 5, 7, 7, 3, 7, 3, 7, 7, 7, 7, 7, 7, 7, 7, 7, 7,\n",
       "       5, 5, 7, 3, 7, 7, 7, 5, 7, 7, 5, 7, 5, 3, 7, 7, 7, 5, 7, 3, 5, 7,\n",
       "       7, 5, 3, 7, 7, 7, 5, 3, 3, 7, 7, 7, 7, 7, 7, 7, 5, 7, 7, 3, 7, 5,\n",
       "       7, 7, 3, 7, 5, 5, 5, 7, 7, 5, 7, 7, 5, 7, 7, 3, 7, 7, 5, 5, 5, 7,\n",
       "       7, 7, 5, 3, 7, 5, 5, 7, 7, 7, 7, 7])"
      ]
     },
     "execution_count": 36,
     "metadata": {},
     "output_type": "execute_result"
    }
   ],
   "source": [
    "random.choice([3,5,7,9], p=[0.1, 0.3, 0.6, 0.0], size=(100))"
   ]
  },
  {
   "cell_type": "markdown",
   "id": "dc8a7a75-8836-4978-b509-dd16643b3d9b",
   "metadata": {},
   "source": [
    "# Even if you run the example above 100 times, the value 9 will never occur.\n",
    "# Distripution based on probability values\n",
    "# Build random array based on the probility values"
   ]
  },
  {
   "cell_type": "markdown",
   "id": "e07d78f1-df9c-4bed-8baa-e6e9b7907541",
   "metadata": {},
   "source": [
    "# Same example as above, but return a 2-D array with 3 rows, each containing 5 values."
   ]
  },
  {
   "cell_type": "code",
   "execution_count": 38,
   "id": "1f12ad3a-e722-4cdd-be6f-5ab9c796c91c",
   "metadata": {},
   "outputs": [
    {
     "data": {
      "text/plain": [
       "array([[9, 7, 7, 5, 7],\n",
       "       [5, 3, 5, 9, 3],\n",
       "       [7, 9, 5, 7, 3]])"
      ]
     },
     "execution_count": 38,
     "metadata": {},
     "output_type": "execute_result"
    }
   ],
   "source": [
    "random.choice([3,5,7,9], size=(3, 5))"
   ]
  },
  {
   "cell_type": "markdown",
   "id": "d6e3213e-b5f6-4323-99b4-89e0972af0b8",
   "metadata": {},
   "source": [
    "# Random Permutations"
   ]
  },
  {
   "cell_type": "markdown",
   "id": "586e2037-c5ea-42b7-9de9-28abe90e70ed",
   "metadata": {},
   "source": [
    "# A permutation refers to an arrangement of elements. e.g. [3, 2, 1] is a permutation of [1, 2, 3] and vice-versa."
   ]
  },
  {
   "cell_type": "markdown",
   "id": "fceea66a-4b8d-4b5b-a7fb-18f6e969e84b",
   "metadata": {},
   "source": [
    "# Randomly shuffle elements of following array:\n",
    "# Shuffle"
   ]
  },
  {
   "cell_type": "code",
   "execution_count": 39,
   "id": "3aa9059a-c6ef-440f-a8f7-a2d740f9a501",
   "metadata": {},
   "outputs": [
    {
     "ename": "NameError",
     "evalue": "name 'np' is not defined",
     "output_type": "error",
     "traceback": [
      "\u001b[1;31m---------------------------------------------------------------------------\u001b[0m",
      "\u001b[1;31mNameError\u001b[0m                                 Traceback (most recent call last)",
      "\u001b[1;32m~\\AppData\\Local\\Temp/ipykernel_8404/1507690616.py\u001b[0m in \u001b[0;36m<module>\u001b[1;34m\u001b[0m\n\u001b[1;32m----> 1\u001b[1;33m \u001b[0marr\u001b[0m\u001b[1;33m=\u001b[0m\u001b[0mnp\u001b[0m\u001b[1;33m.\u001b[0m\u001b[0marray\u001b[0m\u001b[1;33m(\u001b[0m\u001b[1;33m[\u001b[0m\u001b[1;36m1\u001b[0m\u001b[1;33m,\u001b[0m \u001b[1;36m2\u001b[0m\u001b[1;33m,\u001b[0m \u001b[1;36m3\u001b[0m\u001b[1;33m,\u001b[0m \u001b[1;36m4\u001b[0m\u001b[1;33m,\u001b[0m \u001b[1;36m5\u001b[0m\u001b[1;33m]\u001b[0m\u001b[1;33m)\u001b[0m\u001b[1;33m\u001b[0m\u001b[1;33m\u001b[0m\u001b[0m\n\u001b[0m\u001b[0;32m      2\u001b[0m \u001b[0mrandom\u001b[0m\u001b[1;33m.\u001b[0m\u001b[0mshuffle\u001b[0m\u001b[1;33m(\u001b[0m\u001b[0marr\u001b[0m\u001b[1;33m)\u001b[0m\u001b[1;33m\u001b[0m\u001b[1;33m\u001b[0m\u001b[0m\n",
      "\u001b[1;31mNameError\u001b[0m: name 'np' is not defined"
     ]
    }
   ],
   "source": [
    "arr=np.array([1, 2, 3, 4, 5])\n",
    "random.shuffle(arr)"
   ]
  },
  {
   "cell_type": "code",
   "execution_count": 40,
   "id": "42f7be22-7b98-472d-b820-d5d64e1d6293",
   "metadata": {},
   "outputs": [],
   "source": [
    "import numpy"
   ]
  },
  {
   "cell_type": "code",
   "execution_count": 41,
   "id": "fc05bc40-6f59-42cb-878c-b43667c847d2",
   "metadata": {},
   "outputs": [
    {
     "ename": "NameError",
     "evalue": "name 'np' is not defined",
     "output_type": "error",
     "traceback": [
      "\u001b[1;31m---------------------------------------------------------------------------\u001b[0m",
      "\u001b[1;31mNameError\u001b[0m                                 Traceback (most recent call last)",
      "\u001b[1;32m~\\AppData\\Local\\Temp/ipykernel_8404/1507690616.py\u001b[0m in \u001b[0;36m<module>\u001b[1;34m\u001b[0m\n\u001b[1;32m----> 1\u001b[1;33m \u001b[0marr\u001b[0m\u001b[1;33m=\u001b[0m\u001b[0mnp\u001b[0m\u001b[1;33m.\u001b[0m\u001b[0marray\u001b[0m\u001b[1;33m(\u001b[0m\u001b[1;33m[\u001b[0m\u001b[1;36m1\u001b[0m\u001b[1;33m,\u001b[0m \u001b[1;36m2\u001b[0m\u001b[1;33m,\u001b[0m \u001b[1;36m3\u001b[0m\u001b[1;33m,\u001b[0m \u001b[1;36m4\u001b[0m\u001b[1;33m,\u001b[0m \u001b[1;36m5\u001b[0m\u001b[1;33m]\u001b[0m\u001b[1;33m)\u001b[0m\u001b[1;33m\u001b[0m\u001b[1;33m\u001b[0m\u001b[0m\n\u001b[0m\u001b[0;32m      2\u001b[0m \u001b[0mrandom\u001b[0m\u001b[1;33m.\u001b[0m\u001b[0mshuffle\u001b[0m\u001b[1;33m(\u001b[0m\u001b[0marr\u001b[0m\u001b[1;33m)\u001b[0m\u001b[1;33m\u001b[0m\u001b[1;33m\u001b[0m\u001b[0m\n",
      "\u001b[1;31mNameError\u001b[0m: name 'np' is not defined"
     ]
    }
   ],
   "source": [
    "arr=np.array([1, 2, 3, 4, 5])\n",
    "random.shuffle(arr)"
   ]
  },
  {
   "cell_type": "code",
   "execution_count": 42,
   "id": "7ef5ab9d-6dbc-4fc8-9660-0035a1615836",
   "metadata": {},
   "outputs": [],
   "source": [
    "import numpy as np"
   ]
  },
  {
   "cell_type": "code",
   "execution_count": 45,
   "id": "09d062d7-0d35-4fa7-857e-b06608c7cd21",
   "metadata": {},
   "outputs": [
    {
     "name": "stdout",
     "output_type": "stream",
     "text": [
      "None\n"
     ]
    }
   ],
   "source": [
    "arr=np.array([1, 2, 3, 4, 5])\n",
    "print(random.shuffle(arr))"
   ]
  },
  {
   "cell_type": "code",
   "execution_count": 46,
   "id": "6550f67d-8bef-401b-a2f6-32ef343baf34",
   "metadata": {},
   "outputs": [
    {
     "name": "stdout",
     "output_type": "stream",
     "text": [
      "None\n"
     ]
    }
   ],
   "source": [
    "print(random.shuffle(arr))"
   ]
  },
  {
   "cell_type": "code",
   "execution_count": 47,
   "id": "39a1232e-cc8d-4b3f-b72a-7bdc735af803",
   "metadata": {},
   "outputs": [
    {
     "name": "stdout",
     "output_type": "stream",
     "text": [
      "None\n"
     ]
    }
   ],
   "source": [
    "print(random.shuffle(arr))"
   ]
  },
  {
   "cell_type": "code",
   "execution_count": 48,
   "id": "ca54143e-fdef-47d8-ba12-0b87ed65dd19",
   "metadata": {},
   "outputs": [
    {
     "data": {
      "text/plain": [
       "array([3, 1, 4, 2, 5])"
      ]
     },
     "execution_count": 48,
     "metadata": {},
     "output_type": "execute_result"
    }
   ],
   "source": [
    "arr"
   ]
  },
  {
   "cell_type": "code",
   "execution_count": 49,
   "id": "52927515-4529-43cc-93c1-8fe4f7d645b8",
   "metadata": {},
   "outputs": [],
   "source": [
    "random.shuffle(arr)"
   ]
  },
  {
   "cell_type": "code",
   "execution_count": 50,
   "id": "689cc427-c8b0-4524-9346-320741c28df6",
   "metadata": {},
   "outputs": [
    {
     "data": {
      "text/plain": [
       "array([5, 3, 1, 4, 2])"
      ]
     },
     "execution_count": 50,
     "metadata": {},
     "output_type": "execute_result"
    }
   ],
   "source": [
    "arr"
   ]
  },
  {
   "cell_type": "markdown",
   "id": "ad005d62-18d9-43eb-9fe9-43303f4dc3d1",
   "metadata": {},
   "source": [
    "# Difference between Shuffle & Permutation\n",
    "# The shuffle() method makes changes to the original array.\n",
    "# The permutation() method returns a re-arranged array (and leaves the original array un-changed)."
   ]
  },
  {
   "cell_type": "markdown",
   "id": "46a3453f-42e1-494b-ae76-234ce82b0855",
   "metadata": {},
   "source": [
    "# Generating Permutation of Arrays\n",
    "# Permutation"
   ]
  },
  {
   "cell_type": "markdown",
   "id": "067b85cf-a2bb-4ad8-ac33-9587a6c9dc49",
   "metadata": {},
   "source": [
    "# Generate a random permutation of elements of following array:"
   ]
  },
  {
   "cell_type": "code",
   "execution_count": 51,
   "id": "fbb172c7-13c7-409d-98c5-11fc609a2f28",
   "metadata": {},
   "outputs": [
    {
     "data": {
      "text/plain": [
       "array([3, 5, 2, 4, 1])"
      ]
     },
     "execution_count": 51,
     "metadata": {},
     "output_type": "execute_result"
    }
   ],
   "source": [
    "arr = np.array([1, 2, 3, 4, 5])\n",
    "random.permutation(arr)"
   ]
  },
  {
   "cell_type": "code",
   "execution_count": 52,
   "id": "c7a87dd8-bf8f-4efe-bacd-a755d39a5c65",
   "metadata": {},
   "outputs": [
    {
     "data": {
      "text/plain": [
       "array([5, 2, 1, 4, 3])"
      ]
     },
     "execution_count": 52,
     "metadata": {},
     "output_type": "execute_result"
    }
   ],
   "source": [
    "random.permutation(arr)"
   ]
  },
  {
   "cell_type": "code",
   "execution_count": 53,
   "id": "9a85e98b-fb13-4ef4-8f00-343fd1a403cd",
   "metadata": {},
   "outputs": [
    {
     "data": {
      "text/plain": [
       "array([3, 1, 2, 4, 5])"
      ]
     },
     "execution_count": 53,
     "metadata": {},
     "output_type": "execute_result"
    }
   ],
   "source": [
    "random.permutation(arr)"
   ]
  },
  {
   "cell_type": "markdown",
   "id": "494eb71a-8def-4a84-b2e3-5bcabe88df29",
   "metadata": {},
   "source": [
    "# Seaborn module"
   ]
  },
  {
   "cell_type": "markdown",
   "id": "dc735aa1-8e20-483c-8202-5eed4a291b4c",
   "metadata": {},
   "source": [
    "# Visualize Distributions With Seaborn"
   ]
  },
  {
   "cell_type": "code",
   "execution_count": 55,
   "id": "c1814341-91ea-4e8e-a785-a8798d4be9be",
   "metadata": {},
   "outputs": [],
   "source": [
    "import seaborn as sns"
   ]
  },
  {
   "cell_type": "markdown",
   "id": "9aaa06b3-030d-446c-b4ba-6da187b8e3c9",
   "metadata": {},
   "source": [
    "# Distplots\n",
    "# Distplot stands for distribution plot, it takes as input an array and plots a curve corresponding to the distribution of points in the array."
   ]
  },
  {
   "cell_type": "code",
   "execution_count": 56,
   "id": "1e8bf874-fb12-4abc-9cd7-21f2b251f6c6",
   "metadata": {},
   "outputs": [],
   "source": [
    "import matplotlib.pyplot as plt"
   ]
  },
  {
   "cell_type": "code",
   "execution_count": 67,
   "id": "c54c8062-a625-4fc1-9d83-d7d9b833754d",
   "metadata": {},
   "outputs": [
    {
     "name": "stderr",
     "output_type": "stream",
     "text": [
      "C:\\Users\\node\\AppData\\Local\\Programs\\Python\\Python310\\lib\\site-packages\\seaborn\\distributions.py:2619: FutureWarning: `distplot` is a deprecated function and will be removed in a future version. Please adapt your code to use either `displot` (a figure-level function with similar flexibility) or `histplot` (an axes-level function for histograms).\n",
      "  warnings.warn(msg, FutureWarning)\n"
     ]
    },
    {
     "data": {
      "image/png": "[encoded data removed]",
      "text/plain": [
       "<Figure size 432x288 with 1 Axes>"
      ]
     },
     "metadata": {
      "needs_background": "light"
     },
     "output_type": "display_data"
    }
   ],
   "source": [
    "dist=random.randint(5, size=(5))\n",
    "#print(dist)\n",
    "sns.distplot(dist)\n",
    "plt.show()"
   ]
  },
  {
   "cell_type": "code",
   "execution_count": 68,
   "id": "e6b2f3ae-f5ae-4d78-a7c1-9da7e831e6c2",
   "metadata": {},
   "outputs": [
    {
     "name": "stderr",
     "output_type": "stream",
     "text": [
      "C:\\Users\\node\\AppData\\Local\\Programs\\Python\\Python310\\lib\\site-packages\\seaborn\\distributions.py:2619: FutureWarning: `distplot` is a deprecated function and will be removed in a future version. Please adapt your code to use either `displot` (a figure-level function with similar flexibility) or `histplot` (an axes-level function for histograms).\n",
      "  warnings.warn(msg, FutureWarning)\n"
     ]
    },
    {
     "data": {
      "image/png": "[encoded data removed]",
      "text/plain": [
       "<Figure size 432x288 with 1 Axes>"
      ]
     },
     "metadata": {
      "needs_background": "light"
     },
     "output_type": "display_data"
    }
   ],
   "source": [
    "sns.distplot([0, 1, 2, 3, 4, 5])\n",
    "plt.show()"
   ]
  },
  {
   "cell_type": "code",
   "execution_count": 69,
   "id": "a2874202-73be-4bff-980e-1f420a2b5c38",
   "metadata": {},
   "outputs": [
    {
     "name": "stderr",
     "output_type": "stream",
     "text": [
      "C:\\Users\\node\\AppData\\Local\\Programs\\Python\\Python310\\lib\\site-packages\\seaborn\\distributions.py:2619: FutureWarning: `distplot` is a deprecated function and will be removed in a future version. Please adapt your code to use either `displot` (a figure-level function with similar flexibility) or `kdeplot` (an axes-level function for kernel density plots).\n",
      "  warnings.warn(msg, FutureWarning)\n"
     ]
    },
    {
     "data": {
      "image/png": "[encoded data removed]",
      "text/plain": [
       "<Figure size 432x288 with 1 Axes>"
      ]
     },
     "metadata": {
      "needs_background": "light"
     },
     "output_type": "display_data"
    }
   ],
   "source": [
    "sns.distplot([0, 1, 2, 3, 4, 5], hist=False)\n",
    "plt.show()"
   ]
  },
  {
   "cell_type": "code",
   "execution_count": null,
   "id": "d29433f3-e70b-4ef2-9faf-decba68aa34a",
   "metadata": {},
   "outputs": [],
   "source": []
  }
 ],
 "metadata": {
  "kernelspec": {
   "display_name": "Python 3 (ipykernel)",
   "language": "python",
   "name": "python3"
  },
  "language_info": {
   "codemirror_mode": {
    "name": "ipython",
    "version": 3
   },
   "file_extension": ".py",
   "mimetype": "text/x-python",
   "name": "python",
   "nbconvert_exporter": "python",
   "pygments_lexer": "ipython3",
   "version": "3.10.1"
  }
 },
 "nbformat": 4,
 "nbformat_minor": 5
}
